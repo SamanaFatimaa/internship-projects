{
 "cells": [
  {
   "cell_type": "markdown",
   "id": "43e7ea8d-b348-42e0-bc5b-a3443461b8d7",
   "metadata": {},
   "source": [
    "# Import Necessary Libraries"
   ]
  },
  {
   "cell_type": "code",
   "execution_count": 24,
   "id": "f9a90d8c-dc32-409a-bbd6-dbc519a2793b",
   "metadata": {},
   "outputs": [],
   "source": [
    "import pandas as pd\n",
    "import matplotlib.pyplot as plt\n",
    "import seaborn as sns"
   ]
  },
  {
   "cell_type": "markdown",
   "id": "9ea27d64-f4d2-4ee3-8c7c-eba5eae78d0e",
   "metadata": {},
   "source": [
    "# Load the data and Inspect"
   ]
  },
  {
   "cell_type": "code",
   "execution_count": 25,
   "id": "cb2830ec-dba0-4e04-a725-4759e8e4d366",
   "metadata": {},
   "outputs": [],
   "source": [
    "file_path = r'C:\\Users\\saman\\Desktop\\Work\\Uptrail Internship\\Project 2\\Project Files\\Project Files\\raw_sales_data.csv'"
   ]
  },
  {
   "cell_type": "code",
   "execution_count": 26,
   "id": "ee4197ee-13ec-45d5-b3d6-9e77e1e906e1",
   "metadata": {},
   "outputs": [
    {
     "data": {
      "text/html": [
       "<div>\n",
       "<style scoped>\n",
       "    .dataframe tbody tr th:only-of-type {\n",
       "        vertical-align: middle;\n",
       "    }\n",
       "\n",
       "    .dataframe tbody tr th {\n",
       "        vertical-align: top;\n",
       "    }\n",
       "\n",
       "    .dataframe thead th {\n",
       "        text-align: right;\n",
       "    }\n",
       "</style>\n",
       "<table border=\"1\" class=\"dataframe\">\n",
       "  <thead>\n",
       "    <tr style=\"text-align: right;\">\n",
       "      <th></th>\n",
       "      <th>Order_ID</th>\n",
       "      <th>Customer_Name</th>\n",
       "      <th>Email</th>\n",
       "      <th>Phone</th>\n",
       "      <th>Product_Category</th>\n",
       "      <th>Order_Date</th>\n",
       "      <th>Revenue</th>\n",
       "      <th>Discount (%)</th>\n",
       "    </tr>\n",
       "  </thead>\n",
       "  <tbody>\n",
       "    <tr>\n",
       "      <th>0</th>\n",
       "      <td>101</td>\n",
       "      <td>John Doe</td>\n",
       "      <td>john@email.com</td>\n",
       "      <td>9.876543e+09</td>\n",
       "      <td>Electronics</td>\n",
       "      <td>12/31/2023</td>\n",
       "      <td>1200</td>\n",
       "      <td>10.0</td>\n",
       "    </tr>\n",
       "    <tr>\n",
       "      <th>1</th>\n",
       "      <td>102</td>\n",
       "      <td>Alice Smith</td>\n",
       "      <td>NaN</td>\n",
       "      <td>9.898990e+09</td>\n",
       "      <td>Clothing</td>\n",
       "      <td>01-05-24</td>\n",
       "      <td>500</td>\n",
       "      <td>NaN</td>\n",
       "    </tr>\n",
       "    <tr>\n",
       "      <th>2</th>\n",
       "      <td>103</td>\n",
       "      <td>Bob Miller</td>\n",
       "      <td>bob@email.com</td>\n",
       "      <td>NaN</td>\n",
       "      <td>Electronics</td>\n",
       "      <td>12-01-24</td>\n",
       "      <td>3000</td>\n",
       "      <td>20.0</td>\n",
       "    </tr>\n",
       "    <tr>\n",
       "      <th>3</th>\n",
       "      <td>104</td>\n",
       "      <td>John Doe</td>\n",
       "      <td>john@email.com</td>\n",
       "      <td>9.876543e+09</td>\n",
       "      <td>Electronics</td>\n",
       "      <td>12/31/2023</td>\n",
       "      <td>1200</td>\n",
       "      <td>10.0</td>\n",
       "    </tr>\n",
       "    <tr>\n",
       "      <th>4</th>\n",
       "      <td>105</td>\n",
       "      <td>David White</td>\n",
       "      <td>david@email.com</td>\n",
       "      <td>9.123457e+09</td>\n",
       "      <td>Furniture</td>\n",
       "      <td>02-15-2024</td>\n",
       "      <td>2500</td>\n",
       "      <td>15.0</td>\n",
       "    </tr>\n",
       "    <tr>\n",
       "      <th>5</th>\n",
       "      <td>106</td>\n",
       "      <td>Emma Brown</td>\n",
       "      <td>emma@email.com</td>\n",
       "      <td>9.234568e+09</td>\n",
       "      <td>Clothing</td>\n",
       "      <td>08-03-24</td>\n",
       "      <td>700</td>\n",
       "      <td>5.0</td>\n",
       "    </tr>\n",
       "    <tr>\n",
       "      <th>6</th>\n",
       "      <td>107</td>\n",
       "      <td>Chris Green</td>\n",
       "      <td>NaN</td>\n",
       "      <td>9.345679e+09</td>\n",
       "      <td>Furniture</td>\n",
       "      <td>04-10-24</td>\n",
       "      <td>1800</td>\n",
       "      <td>25.0</td>\n",
       "    </tr>\n",
       "    <tr>\n",
       "      <th>7</th>\n",
       "      <td>108</td>\n",
       "      <td>Alice Smith</td>\n",
       "      <td>alice@email.com</td>\n",
       "      <td>NaN</td>\n",
       "      <td>Clothing</td>\n",
       "      <td>03-08-24</td>\n",
       "      <td>500</td>\n",
       "      <td>NaN</td>\n",
       "    </tr>\n",
       "  </tbody>\n",
       "</table>\n",
       "</div>"
      ],
      "text/plain": [
       "   Order_ID Customer_Name            Email         Phone Product_Category  \\\n",
       "0       101      John Doe   john@email.com  9.876543e+09      Electronics   \n",
       "1       102   Alice Smith              NaN  9.898990e+09         Clothing   \n",
       "2       103    Bob Miller    bob@email.com           NaN      Electronics   \n",
       "3       104      John Doe   john@email.com  9.876543e+09      Electronics   \n",
       "4       105   David White  david@email.com  9.123457e+09        Furniture   \n",
       "5       106    Emma Brown   emma@email.com  9.234568e+09         Clothing   \n",
       "6       107   Chris Green              NaN  9.345679e+09        Furniture   \n",
       "7       108   Alice Smith  alice@email.com           NaN         Clothing   \n",
       "\n",
       "   Order_Date  Revenue  Discount (%)  \n",
       "0  12/31/2023     1200          10.0  \n",
       "1    01-05-24      500           NaN  \n",
       "2    12-01-24     3000          20.0  \n",
       "3  12/31/2023     1200          10.0  \n",
       "4  02-15-2024     2500          15.0  \n",
       "5    08-03-24      700           5.0  \n",
       "6    04-10-24     1800          25.0  \n",
       "7    03-08-24      500           NaN  "
      ]
     },
     "execution_count": 26,
     "metadata": {},
     "output_type": "execute_result"
    }
   ],
   "source": [
    "raw_sales_data = pd.read_csv(file_path, sep = ',')\n",
    "raw_sales_data"
   ]
  },
  {
   "cell_type": "code",
   "execution_count": 27,
   "id": "90e88c2f-566c-418b-959d-cdbcfb2f1e8e",
   "metadata": {},
   "outputs": [
    {
     "data": {
      "text/plain": [
       "Index(['Order_ID', 'Customer_Name', 'Email', 'Phone', 'Product_Category',\n",
       "       'Order_Date', 'Revenue', 'Discount (%)'],\n",
       "      dtype='object')"
      ]
     },
     "execution_count": 27,
     "metadata": {},
     "output_type": "execute_result"
    }
   ],
   "source": [
    "raw_sales_data.columns"
   ]
  },
  {
   "cell_type": "code",
   "execution_count": 28,
   "id": "924c2a26-5066-43d7-a370-4c28211e751f",
   "metadata": {},
   "outputs": [
    {
     "data": {
      "text/plain": [
       "(8, 8)"
      ]
     },
     "execution_count": 28,
     "metadata": {},
     "output_type": "execute_result"
    }
   ],
   "source": [
    "raw_sales_data.shape"
   ]
  },
  {
   "cell_type": "code",
   "execution_count": 29,
   "id": "a9b08f33-27f3-4ced-bf7b-0699bab7cc03",
   "metadata": {},
   "outputs": [
    {
     "data": {
      "text/plain": [
       "<bound method DataFrame.info of    Order_ID Customer_Name            Email         Phone Product_Category  \\\n",
       "0       101      John Doe   john@email.com  9.876543e+09      Electronics   \n",
       "1       102   Alice Smith              NaN  9.898990e+09         Clothing   \n",
       "2       103    Bob Miller    bob@email.com           NaN      Electronics   \n",
       "3       104      John Doe   john@email.com  9.876543e+09      Electronics   \n",
       "4       105   David White  david@email.com  9.123457e+09        Furniture   \n",
       "5       106    Emma Brown   emma@email.com  9.234568e+09         Clothing   \n",
       "6       107   Chris Green              NaN  9.345679e+09        Furniture   \n",
       "7       108   Alice Smith  alice@email.com           NaN         Clothing   \n",
       "\n",
       "   Order_Date  Revenue  Discount (%)  \n",
       "0  12/31/2023     1200          10.0  \n",
       "1    01-05-24      500           NaN  \n",
       "2    12-01-24     3000          20.0  \n",
       "3  12/31/2023     1200          10.0  \n",
       "4  02-15-2024     2500          15.0  \n",
       "5    08-03-24      700           5.0  \n",
       "6    04-10-24     1800          25.0  \n",
       "7    03-08-24      500           NaN  >"
      ]
     },
     "execution_count": 29,
     "metadata": {},
     "output_type": "execute_result"
    }
   ],
   "source": [
    "raw_sales_data.info"
   ]
  },
  {
   "cell_type": "code",
   "execution_count": 30,
   "id": "24617ed1-bd6c-4fc1-a961-627b1a2f4288",
   "metadata": {},
   "outputs": [
    {
     "data": {
      "text/plain": [
       "Order_ID              int64\n",
       "Customer_Name        object\n",
       "Email                object\n",
       "Phone               float64\n",
       "Product_Category     object\n",
       "Order_Date           object\n",
       "Revenue               int64\n",
       "Discount (%)        float64\n",
       "dtype: object"
      ]
     },
     "execution_count": 30,
     "metadata": {},
     "output_type": "execute_result"
    }
   ],
   "source": [
    "raw_sales_data.dtypes"
   ]
  },
  {
   "cell_type": "code",
   "execution_count": 31,
   "id": "f401d27a-52e4-4dfe-a596-663b516f8388",
   "metadata": {},
   "outputs": [
    {
     "data": {
      "text/plain": [
       "Order_ID            0\n",
       "Customer_Name       0\n",
       "Email               2\n",
       "Phone               2\n",
       "Product_Category    0\n",
       "Order_Date          0\n",
       "Revenue             0\n",
       "Discount (%)        2\n",
       "dtype: int64"
      ]
     },
     "execution_count": 31,
     "metadata": {},
     "output_type": "execute_result"
    }
   ],
   "source": [
    "raw_sales_data.isnull().sum()"
   ]
  },
  {
   "cell_type": "code",
   "execution_count": 32,
   "id": "f78a2d02-e6c0-4429-8a4b-e6dc3e2baaf4",
   "metadata": {},
   "outputs": [
    {
     "data": {
      "text/plain": [
       "np.int64(0)"
      ]
     },
     "execution_count": 32,
     "metadata": {},
     "output_type": "execute_result"
    }
   ],
   "source": [
    "raw_sales_data.duplicated().sum()"
   ]
  },
  {
   "cell_type": "markdown",
   "id": "eb0b0393-7238-4208-b714-dfb2af3efb1f",
   "metadata": {},
   "source": [
    "# Data Cleaning"
   ]
  },
  {
   "cell_type": "code",
   "execution_count": 33,
   "id": "c71e8d5d-ed34-4ed2-8a2e-77b871443b16",
   "metadata": {},
   "outputs": [],
   "source": [
    "raw_sales_data['Email'] = raw_sales_data['Email'].fillna('Unknown')"
   ]
  },
  {
   "cell_type": "code",
   "execution_count": 34,
   "id": "cb804e84-0896-44f5-9c22-46c4bcf8639b",
   "metadata": {},
   "outputs": [],
   "source": [
    "raw_sales_data['Phone'] = raw_sales_data['Phone'].fillna('Unknown')"
   ]
  },
  {
   "cell_type": "code",
   "execution_count": 35,
   "id": "f037893c-2fb8-4bb3-8c4c-84eee62af6a9",
   "metadata": {},
   "outputs": [],
   "source": [
    "raw_sales_data['Discount (%)'] = raw_sales_data['Discount (%)'].fillna(0)"
   ]
  },
  {
   "cell_type": "code",
   "execution_count": 36,
   "id": "62eba2ef-4ddf-490e-9362-07da2e72659d",
   "metadata": {},
   "outputs": [
    {
     "data": {
      "text/html": [
       "<div>\n",
       "<style scoped>\n",
       "    .dataframe tbody tr th:only-of-type {\n",
       "        vertical-align: middle;\n",
       "    }\n",
       "\n",
       "    .dataframe tbody tr th {\n",
       "        vertical-align: top;\n",
       "    }\n",
       "\n",
       "    .dataframe thead th {\n",
       "        text-align: right;\n",
       "    }\n",
       "</style>\n",
       "<table border=\"1\" class=\"dataframe\">\n",
       "  <thead>\n",
       "    <tr style=\"text-align: right;\">\n",
       "      <th></th>\n",
       "      <th>Order_ID</th>\n",
       "      <th>Customer_Name</th>\n",
       "      <th>Email</th>\n",
       "      <th>Phone</th>\n",
       "      <th>Product_Category</th>\n",
       "      <th>Order_Date</th>\n",
       "      <th>Revenue</th>\n",
       "      <th>Discount (%)</th>\n",
       "    </tr>\n",
       "  </thead>\n",
       "  <tbody>\n",
       "    <tr>\n",
       "      <th>0</th>\n",
       "      <td>101</td>\n",
       "      <td>John Doe</td>\n",
       "      <td>john@email.com</td>\n",
       "      <td>9876543210.0</td>\n",
       "      <td>Electronics</td>\n",
       "      <td>12/31/2023</td>\n",
       "      <td>1200</td>\n",
       "      <td>10.0</td>\n",
       "    </tr>\n",
       "    <tr>\n",
       "      <th>1</th>\n",
       "      <td>102</td>\n",
       "      <td>Alice Smith</td>\n",
       "      <td>Unknown</td>\n",
       "      <td>9898989898.0</td>\n",
       "      <td>Clothing</td>\n",
       "      <td>01-05-24</td>\n",
       "      <td>500</td>\n",
       "      <td>0.0</td>\n",
       "    </tr>\n",
       "    <tr>\n",
       "      <th>2</th>\n",
       "      <td>103</td>\n",
       "      <td>Bob Miller</td>\n",
       "      <td>bob@email.com</td>\n",
       "      <td>Unknown</td>\n",
       "      <td>Electronics</td>\n",
       "      <td>12-01-24</td>\n",
       "      <td>3000</td>\n",
       "      <td>20.0</td>\n",
       "    </tr>\n",
       "    <tr>\n",
       "      <th>3</th>\n",
       "      <td>104</td>\n",
       "      <td>John Doe</td>\n",
       "      <td>john@email.com</td>\n",
       "      <td>9876543210.0</td>\n",
       "      <td>Electronics</td>\n",
       "      <td>12/31/2023</td>\n",
       "      <td>1200</td>\n",
       "      <td>10.0</td>\n",
       "    </tr>\n",
       "    <tr>\n",
       "      <th>4</th>\n",
       "      <td>105</td>\n",
       "      <td>David White</td>\n",
       "      <td>david@email.com</td>\n",
       "      <td>9123456789.0</td>\n",
       "      <td>Furniture</td>\n",
       "      <td>02-15-2024</td>\n",
       "      <td>2500</td>\n",
       "      <td>15.0</td>\n",
       "    </tr>\n",
       "    <tr>\n",
       "      <th>5</th>\n",
       "      <td>106</td>\n",
       "      <td>Emma Brown</td>\n",
       "      <td>emma@email.com</td>\n",
       "      <td>9234567890.0</td>\n",
       "      <td>Clothing</td>\n",
       "      <td>08-03-24</td>\n",
       "      <td>700</td>\n",
       "      <td>5.0</td>\n",
       "    </tr>\n",
       "    <tr>\n",
       "      <th>6</th>\n",
       "      <td>107</td>\n",
       "      <td>Chris Green</td>\n",
       "      <td>Unknown</td>\n",
       "      <td>9345678901.0</td>\n",
       "      <td>Furniture</td>\n",
       "      <td>04-10-24</td>\n",
       "      <td>1800</td>\n",
       "      <td>25.0</td>\n",
       "    </tr>\n",
       "    <tr>\n",
       "      <th>7</th>\n",
       "      <td>108</td>\n",
       "      <td>Alice Smith</td>\n",
       "      <td>alice@email.com</td>\n",
       "      <td>Unknown</td>\n",
       "      <td>Clothing</td>\n",
       "      <td>03-08-24</td>\n",
       "      <td>500</td>\n",
       "      <td>0.0</td>\n",
       "    </tr>\n",
       "  </tbody>\n",
       "</table>\n",
       "</div>"
      ],
      "text/plain": [
       "   Order_ID Customer_Name            Email         Phone Product_Category  \\\n",
       "0       101      John Doe   john@email.com  9876543210.0      Electronics   \n",
       "1       102   Alice Smith          Unknown  9898989898.0         Clothing   \n",
       "2       103    Bob Miller    bob@email.com       Unknown      Electronics   \n",
       "3       104      John Doe   john@email.com  9876543210.0      Electronics   \n",
       "4       105   David White  david@email.com  9123456789.0        Furniture   \n",
       "5       106    Emma Brown   emma@email.com  9234567890.0         Clothing   \n",
       "6       107   Chris Green          Unknown  9345678901.0        Furniture   \n",
       "7       108   Alice Smith  alice@email.com       Unknown         Clothing   \n",
       "\n",
       "   Order_Date  Revenue  Discount (%)  \n",
       "0  12/31/2023     1200          10.0  \n",
       "1    01-05-24      500           0.0  \n",
       "2    12-01-24     3000          20.0  \n",
       "3  12/31/2023     1200          10.0  \n",
       "4  02-15-2024     2500          15.0  \n",
       "5    08-03-24      700           5.0  \n",
       "6    04-10-24     1800          25.0  \n",
       "7    03-08-24      500           0.0  "
      ]
     },
     "execution_count": 36,
     "metadata": {},
     "output_type": "execute_result"
    }
   ],
   "source": [
    "raw_sales_data"
   ]
  },
  {
   "cell_type": "code",
   "execution_count": 37,
   "id": "729b2eba-42c2-422b-816f-2cb2bb3e5ac4",
   "metadata": {},
   "outputs": [
    {
     "data": {
      "text/plain": [
       "np.int64(2)"
      ]
     },
     "execution_count": 37,
     "metadata": {},
     "output_type": "execute_result"
    }
   ],
   "source": [
    "dup_customer_name = raw_sales_data['Customer_Name'].duplicated().sum()\n",
    "dup_customer_name"
   ]
  },
  {
   "cell_type": "code",
   "execution_count": 38,
   "id": "1fa03def-398f-4ba5-a894-1121db85f857",
   "metadata": {},
   "outputs": [
    {
     "data": {
      "text/html": [
       "<div>\n",
       "<style scoped>\n",
       "    .dataframe tbody tr th:only-of-type {\n",
       "        vertical-align: middle;\n",
       "    }\n",
       "\n",
       "    .dataframe tbody tr th {\n",
       "        vertical-align: top;\n",
       "    }\n",
       "\n",
       "    .dataframe thead th {\n",
       "        text-align: right;\n",
       "    }\n",
       "</style>\n",
       "<table border=\"1\" class=\"dataframe\">\n",
       "  <thead>\n",
       "    <tr style=\"text-align: right;\">\n",
       "      <th></th>\n",
       "      <th>Order_ID</th>\n",
       "      <th>Customer_Name</th>\n",
       "      <th>Email</th>\n",
       "      <th>Phone</th>\n",
       "      <th>Product_Category</th>\n",
       "      <th>Order_Date</th>\n",
       "      <th>Revenue</th>\n",
       "      <th>Discount (%)</th>\n",
       "    </tr>\n",
       "  </thead>\n",
       "  <tbody>\n",
       "    <tr>\n",
       "      <th>0</th>\n",
       "      <td>101</td>\n",
       "      <td>John Doe</td>\n",
       "      <td>john@email.com</td>\n",
       "      <td>9876543210.0</td>\n",
       "      <td>Electronics</td>\n",
       "      <td>12/31/2023</td>\n",
       "      <td>1200</td>\n",
       "      <td>10.0</td>\n",
       "    </tr>\n",
       "    <tr>\n",
       "      <th>1</th>\n",
       "      <td>102</td>\n",
       "      <td>Alice Smith</td>\n",
       "      <td>Unknown</td>\n",
       "      <td>9898989898.0</td>\n",
       "      <td>Clothing</td>\n",
       "      <td>01-05-24</td>\n",
       "      <td>500</td>\n",
       "      <td>0.0</td>\n",
       "    </tr>\n",
       "    <tr>\n",
       "      <th>2</th>\n",
       "      <td>103</td>\n",
       "      <td>Bob Miller</td>\n",
       "      <td>bob@email.com</td>\n",
       "      <td>Unknown</td>\n",
       "      <td>Electronics</td>\n",
       "      <td>12-01-24</td>\n",
       "      <td>3000</td>\n",
       "      <td>20.0</td>\n",
       "    </tr>\n",
       "    <tr>\n",
       "      <th>4</th>\n",
       "      <td>105</td>\n",
       "      <td>David White</td>\n",
       "      <td>david@email.com</td>\n",
       "      <td>9123456789.0</td>\n",
       "      <td>Furniture</td>\n",
       "      <td>02-15-2024</td>\n",
       "      <td>2500</td>\n",
       "      <td>15.0</td>\n",
       "    </tr>\n",
       "    <tr>\n",
       "      <th>5</th>\n",
       "      <td>106</td>\n",
       "      <td>Emma Brown</td>\n",
       "      <td>emma@email.com</td>\n",
       "      <td>9234567890.0</td>\n",
       "      <td>Clothing</td>\n",
       "      <td>08-03-24</td>\n",
       "      <td>700</td>\n",
       "      <td>5.0</td>\n",
       "    </tr>\n",
       "    <tr>\n",
       "      <th>6</th>\n",
       "      <td>107</td>\n",
       "      <td>Chris Green</td>\n",
       "      <td>Unknown</td>\n",
       "      <td>9345678901.0</td>\n",
       "      <td>Furniture</td>\n",
       "      <td>04-10-24</td>\n",
       "      <td>1800</td>\n",
       "      <td>25.0</td>\n",
       "    </tr>\n",
       "  </tbody>\n",
       "</table>\n",
       "</div>"
      ],
      "text/plain": [
       "   Order_ID Customer_Name            Email         Phone Product_Category  \\\n",
       "0       101      John Doe   john@email.com  9876543210.0      Electronics   \n",
       "1       102   Alice Smith          Unknown  9898989898.0         Clothing   \n",
       "2       103    Bob Miller    bob@email.com       Unknown      Electronics   \n",
       "4       105   David White  david@email.com  9123456789.0        Furniture   \n",
       "5       106    Emma Brown   emma@email.com  9234567890.0         Clothing   \n",
       "6       107   Chris Green          Unknown  9345678901.0        Furniture   \n",
       "\n",
       "   Order_Date  Revenue  Discount (%)  \n",
       "0  12/31/2023     1200          10.0  \n",
       "1    01-05-24      500           0.0  \n",
       "2    12-01-24     3000          20.0  \n",
       "4  02-15-2024     2500          15.0  \n",
       "5    08-03-24      700           5.0  \n",
       "6    04-10-24     1800          25.0  "
      ]
     },
     "execution_count": 38,
     "metadata": {},
     "output_type": "execute_result"
    }
   ],
   "source": [
    "sales_data_cleaned = raw_sales_data.drop_duplicates(subset='Customer_Name', keep='first')\n",
    "sales_data_cleaned"
   ]
  },
  {
   "cell_type": "code",
   "execution_count": 39,
   "id": "47b7e0f3-0755-40fe-8dcf-5c8a77ba0052",
   "metadata": {},
   "outputs": [],
   "source": [
    "sales_data_cleaned.loc[:, 'Order_Date'] = pd.to_datetime(sales_data_cleaned['Order_Date'], format = 'mixed')"
   ]
  },
  {
   "cell_type": "code",
   "execution_count": 40,
   "id": "8464157a-262e-4b9f-b6b6-84872870951c",
   "metadata": {},
   "outputs": [
    {
     "data": {
      "text/html": [
       "<div>\n",
       "<style scoped>\n",
       "    .dataframe tbody tr th:only-of-type {\n",
       "        vertical-align: middle;\n",
       "    }\n",
       "\n",
       "    .dataframe tbody tr th {\n",
       "        vertical-align: top;\n",
       "    }\n",
       "\n",
       "    .dataframe thead th {\n",
       "        text-align: right;\n",
       "    }\n",
       "</style>\n",
       "<table border=\"1\" class=\"dataframe\">\n",
       "  <thead>\n",
       "    <tr style=\"text-align: right;\">\n",
       "      <th></th>\n",
       "      <th>Order_ID</th>\n",
       "      <th>Customer_Name</th>\n",
       "      <th>Email</th>\n",
       "      <th>Phone</th>\n",
       "      <th>Product_Category</th>\n",
       "      <th>Order_Date</th>\n",
       "      <th>Revenue</th>\n",
       "      <th>Discount (%)</th>\n",
       "    </tr>\n",
       "  </thead>\n",
       "  <tbody>\n",
       "    <tr>\n",
       "      <th>0</th>\n",
       "      <td>101</td>\n",
       "      <td>John Doe</td>\n",
       "      <td>john@email.com</td>\n",
       "      <td>9876543210.0</td>\n",
       "      <td>Electronics</td>\n",
       "      <td>2023-12-31 00:00:00</td>\n",
       "      <td>1200</td>\n",
       "      <td>10.0</td>\n",
       "    </tr>\n",
       "    <tr>\n",
       "      <th>1</th>\n",
       "      <td>102</td>\n",
       "      <td>Alice Smith</td>\n",
       "      <td>Unknown</td>\n",
       "      <td>9898989898.0</td>\n",
       "      <td>Clothing</td>\n",
       "      <td>2024-01-05 00:00:00</td>\n",
       "      <td>500</td>\n",
       "      <td>0.0</td>\n",
       "    </tr>\n",
       "    <tr>\n",
       "      <th>2</th>\n",
       "      <td>103</td>\n",
       "      <td>Bob Miller</td>\n",
       "      <td>bob@email.com</td>\n",
       "      <td>Unknown</td>\n",
       "      <td>Electronics</td>\n",
       "      <td>2024-12-01 00:00:00</td>\n",
       "      <td>3000</td>\n",
       "      <td>20.0</td>\n",
       "    </tr>\n",
       "    <tr>\n",
       "      <th>4</th>\n",
       "      <td>105</td>\n",
       "      <td>David White</td>\n",
       "      <td>david@email.com</td>\n",
       "      <td>9123456789.0</td>\n",
       "      <td>Furniture</td>\n",
       "      <td>2024-02-15 00:00:00</td>\n",
       "      <td>2500</td>\n",
       "      <td>15.0</td>\n",
       "    </tr>\n",
       "    <tr>\n",
       "      <th>5</th>\n",
       "      <td>106</td>\n",
       "      <td>Emma Brown</td>\n",
       "      <td>emma@email.com</td>\n",
       "      <td>9234567890.0</td>\n",
       "      <td>Clothing</td>\n",
       "      <td>2024-08-03 00:00:00</td>\n",
       "      <td>700</td>\n",
       "      <td>5.0</td>\n",
       "    </tr>\n",
       "    <tr>\n",
       "      <th>6</th>\n",
       "      <td>107</td>\n",
       "      <td>Chris Green</td>\n",
       "      <td>Unknown</td>\n",
       "      <td>9345678901.0</td>\n",
       "      <td>Furniture</td>\n",
       "      <td>2024-04-10 00:00:00</td>\n",
       "      <td>1800</td>\n",
       "      <td>25.0</td>\n",
       "    </tr>\n",
       "  </tbody>\n",
       "</table>\n",
       "</div>"
      ],
      "text/plain": [
       "   Order_ID Customer_Name            Email         Phone Product_Category  \\\n",
       "0       101      John Doe   john@email.com  9876543210.0      Electronics   \n",
       "1       102   Alice Smith          Unknown  9898989898.0         Clothing   \n",
       "2       103    Bob Miller    bob@email.com       Unknown      Electronics   \n",
       "4       105   David White  david@email.com  9123456789.0        Furniture   \n",
       "5       106    Emma Brown   emma@email.com  9234567890.0         Clothing   \n",
       "6       107   Chris Green          Unknown  9345678901.0        Furniture   \n",
       "\n",
       "            Order_Date  Revenue  Discount (%)  \n",
       "0  2023-12-31 00:00:00     1200          10.0  \n",
       "1  2024-01-05 00:00:00      500           0.0  \n",
       "2  2024-12-01 00:00:00     3000          20.0  \n",
       "4  2024-02-15 00:00:00     2500          15.0  \n",
       "5  2024-08-03 00:00:00      700           5.0  \n",
       "6  2024-04-10 00:00:00     1800          25.0  "
      ]
     },
     "execution_count": 40,
     "metadata": {},
     "output_type": "execute_result"
    }
   ],
   "source": [
    "sales_data_cleaned"
   ]
  },
  {
   "cell_type": "markdown",
   "id": "03dbc4e0-b345-4686-972b-a308fc713612",
   "metadata": {},
   "source": [
    "Save cleaned file as csv"
   ]
  },
  {
   "cell_type": "code",
   "execution_count": 41,
   "id": "c1607ce7-d660-4dbc-8bce-4fee561f82ad",
   "metadata": {},
   "outputs": [],
   "source": [
    "sales_data_cleaned.to_csv(\"sales_data_cleaned.csv\", index=False)"
   ]
  },
  {
   "cell_type": "markdown",
   "id": "ac9cd17f-671e-4ccd-b179-35890fc864a8",
   "metadata": {},
   "source": [
    "# Visualization"
   ]
  },
  {
   "cell_type": "code",
   "execution_count": 42,
   "id": "26c9e97a-80ed-44bb-bb26-8ea4e81cc0dc",
   "metadata": {},
   "outputs": [],
   "source": [
    "sns.set(style=\"whitegrid\")"
   ]
  },
  {
   "cell_type": "code",
   "execution_count": 44,
   "id": "e4e36ac0-44a7-4b1c-9d40-8403bbcbcac6",
   "metadata": {},
   "outputs": [
    {
     "data": {
      "image/png": "[encoded data removed]",
      "text/plain": [
       "<Figure size 800x500 with 1 Axes>"
      ]
     },
     "metadata": {},
     "output_type": "display_data"
    }
   ],
   "source": [
    "# Plot 1: Revenue by Product Category\n",
    "plt.figure(figsize=(8, 5))\n",
    "sns.barplot(x=\"Product_Category\", y=\"Revenue\", data=sales_data_cleaned, estimator=sum, errorbar=None)\n",
    "plt.title(\"Total Revenue by Product Category\")\n",
    "plt.ylabel(\"Total Revenue (€)\")\n",
    "plt.xlabel(\"Product Category\")\n",
    "plt.tight_layout()\n",
    "plt.show()"
   ]
  },
  {
   "cell_type": "code",
   "execution_count": 45,
   "id": "f650fe42-bb9e-4777-98a5-9e5660ad4cb7",
   "metadata": {},
   "outputs": [
    {
     "data": {
      "image/png": "[encoded data removed]",
      "text/plain": [
       "<Figure size 800x500 with 1 Axes>"
      ]
     },
     "metadata": {},
     "output_type": "display_data"
    }
   ],
   "source": [
    "# Plot 2: Discount by Product Category\n",
    "plt.figure(figsize=(8, 5))\n",
    "sns.boxplot(x=\"Product_Category\", y=\"Discount (%)\", data=sales_data_cleaned)\n",
    "plt.title(\"Discount Distribution by Product Category\")\n",
    "plt.ylabel(\"Discount (%)\")\n",
    "plt.xlabel(\"Product Category\")\n",
    "plt.tight_layout()\n",
    "plt.show()"
   ]
  },
  {
   "cell_type": "code",
   "execution_count": 46,
   "id": "76fa8620-f6d1-4fdb-a683-90d689b31420",
   "metadata": {},
   "outputs": [
    {
     "data": {
      "image/png": "[encoded data removed]",
      "text/plain": [
       "<Figure size 1000x500 with 1 Axes>"
      ]
     },
     "metadata": {},
     "output_type": "display_data"
    }
   ],
   "source": [
    "# Plot 3: Revenue over Time\n",
    "plt.figure(figsize=(10, 5))\n",
    "sns.lineplot(x=\"Order_Date\", y=\"Revenue\", data=sales_data_cleaned, marker='o')\n",
    "plt.title(\"Revenue Over Time\")\n",
    "plt.ylabel(\"Revenue (€)\")\n",
    "plt.xlabel(\"Order Date\")\n",
    "plt.tight_layout()\n",
    "plt.show()"
   ]
  },
  {
   "cell_type": "code",
   "execution_count": null,
   "id": "5f7ab1b8-9f77-4b2f-8bfc-92a7569e8508",
   "metadata": {},
   "outputs": [],
   "source": []
  }
 ],
 "metadata": {
  "kernelspec": {
   "display_name": "Python 3 (ipykernel)",
   "language": "python",
   "name": "python3"
  },
  "language_info": {
   "codemirror_mode": {
    "name": "ipython",
    "version": 3
   },
   "file_extension": ".py",
   "mimetype": "text/x-python",
   "name": "python",
   "nbconvert_exporter": "python",
   "pygments_lexer": "ipython3",
   "version": "3.12.9"
  }
 },
 "nbformat": 4,
 "nbformat_minor": 5
}
