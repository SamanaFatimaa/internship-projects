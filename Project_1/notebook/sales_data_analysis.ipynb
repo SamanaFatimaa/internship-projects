{
 "cells": [
  {
   "cell_type": "markdown",
   "id": "93b7e232",
   "metadata": {},
   "source": [
    "# Week 1 - Project: Data Analysis for Business Insights"
   ]
  },
  {
   "cell_type": "markdown",
   "id": "67da6875",
   "metadata": {},
   "source": [
    "1. Import Required Libraries"
   ]
  },
  {
   "cell_type": "code",
   "execution_count": 4,
   "id": "08217e31",
   "metadata": {},
   "outputs": [],
   "source": [
    "import pandas as pd\n",
    "import matplotlib.pyplot as plt\n",
    "import seaborn as sns"
   ]
  },
  {
   "cell_type": "markdown",
   "id": "e785ad7d",
   "metadata": {},
   "source": [
    "2. Load the Dataset"
   ]
  },
  {
   "cell_type": "code",
   "execution_count": 5,
   "id": "c17a2f32",
   "metadata": {},
   "outputs": [],
   "source": [
    "file_path = r'C:\\Users\\saman\\workspace\\data_analysis_internship\\Project_1\\doc\\data\\sales_data.xlsx'\n",
    "sales_data = pd.read_excel(file_path, engine='openpyxl')"
   ]
  },
  {
   "cell_type": "markdown",
   "id": "af75cb66",
   "metadata": {},
   "source": [
    "3. Inspect the Dataset"
   ]
  },
  {
   "cell_type": "code",
   "execution_count": 6,
   "id": "2d754689",
   "metadata": {},
   "outputs": [
    {
     "data": {
      "text/html": [
       "<div>\n",
       "<style scoped>\n",
       "    .dataframe tbody tr th:only-of-type {\n",
       "        vertical-align: middle;\n",
       "    }\n",
       "\n",
       "    .dataframe tbody tr th {\n",
       "        vertical-align: top;\n",
       "    }\n",
       "\n",
       "    .dataframe thead th {\n",
       "        text-align: right;\n",
       "    }\n",
       "</style>\n",
       "<table border=\"1\" class=\"dataframe\">\n",
       "  <thead>\n",
       "    <tr style=\"text-align: right;\">\n",
       "      <th></th>\n",
       "      <th>Transaction_ID</th>\n",
       "      <th>Date</th>\n",
       "      <th>Customer_ID</th>\n",
       "      <th>Product</th>\n",
       "      <th>Category</th>\n",
       "      <th>Quantity</th>\n",
       "      <th>Price</th>\n",
       "      <th>Total_Amount</th>\n",
       "      <th>Payment_Method</th>\n",
       "      <th>Region</th>\n",
       "    </tr>\n",
       "  </thead>\n",
       "  <tbody>\n",
       "    <tr>\n",
       "      <th>0</th>\n",
       "      <td>1001</td>\n",
       "      <td>2024-01-05</td>\n",
       "      <td>C001</td>\n",
       "      <td>Laptop</td>\n",
       "      <td>Electronics</td>\n",
       "      <td>1</td>\n",
       "      <td>800</td>\n",
       "      <td>NaN</td>\n",
       "      <td>Credit Card</td>\n",
       "      <td>North</td>\n",
       "    </tr>\n",
       "    <tr>\n",
       "      <th>1</th>\n",
       "      <td>1002</td>\n",
       "      <td>2024-01-10</td>\n",
       "      <td>C002</td>\n",
       "      <td>Smartphone</td>\n",
       "      <td>Electronics</td>\n",
       "      <td>2</td>\n",
       "      <td>600</td>\n",
       "      <td>1200.0</td>\n",
       "      <td>Cash</td>\n",
       "      <td>South</td>\n",
       "    </tr>\n",
       "    <tr>\n",
       "      <th>2</th>\n",
       "      <td>1003</td>\n",
       "      <td>2024-01-12</td>\n",
       "      <td>C003</td>\n",
       "      <td>Headphones</td>\n",
       "      <td>Electronics</td>\n",
       "      <td>1</td>\n",
       "      <td>100</td>\n",
       "      <td>100.0</td>\n",
       "      <td>PayPal</td>\n",
       "      <td>West</td>\n",
       "    </tr>\n",
       "    <tr>\n",
       "      <th>3</th>\n",
       "      <td>1004</td>\n",
       "      <td>2024-02-05</td>\n",
       "      <td>C004</td>\n",
       "      <td>Tablet</td>\n",
       "      <td>Electronics</td>\n",
       "      <td>1</td>\n",
       "      <td>500</td>\n",
       "      <td>500.0</td>\n",
       "      <td>Debit Card</td>\n",
       "      <td>East</td>\n",
       "    </tr>\n",
       "    <tr>\n",
       "      <th>4</th>\n",
       "      <td>1005</td>\n",
       "      <td>2024-02-08</td>\n",
       "      <td>C005</td>\n",
       "      <td>Book</td>\n",
       "      <td>Books</td>\n",
       "      <td>3</td>\n",
       "      <td>20</td>\n",
       "      <td>60.0</td>\n",
       "      <td>Credit Card</td>\n",
       "      <td>North</td>\n",
       "    </tr>\n",
       "  </tbody>\n",
       "</table>\n",
       "</div>"
      ],
      "text/plain": [
       "   Transaction_ID        Date Customer_ID     Product     Category  Quantity  \\\n",
       "0            1001  2024-01-05        C001      Laptop  Electronics         1   \n",
       "1            1002  2024-01-10        C002  Smartphone  Electronics         2   \n",
       "2            1003  2024-01-12        C003  Headphones  Electronics         1   \n",
       "3            1004  2024-02-05        C004      Tablet  Electronics         1   \n",
       "4            1005  2024-02-08        C005        Book        Books         3   \n",
       "\n",
       "   Price  Total_Amount Payment_Method Region  \n",
       "0    800           NaN    Credit Card  North  \n",
       "1    600        1200.0           Cash  South  \n",
       "2    100         100.0         PayPal   West  \n",
       "3    500         500.0     Debit Card   East  \n",
       "4     20          60.0    Credit Card  North  "
      ]
     },
     "execution_count": 6,
     "metadata": {},
     "output_type": "execute_result"
    }
   ],
   "source": [
    "sales_data.head()"
   ]
  },
  {
   "cell_type": "code",
   "execution_count": 7,
   "id": "2c63e540",
   "metadata": {},
   "outputs": [
    {
     "name": "stdout",
     "output_type": "stream",
     "text": [
      "Index(['Transaction_ID', 'Date', 'Customer_ID', 'Product', 'Category',\n",
      "       'Quantity', 'Price', 'Total_Amount', 'Payment_Method', 'Region'],\n",
      "      dtype='object')\n"
     ]
    }
   ],
   "source": [
    "print(sales_data.columns)"
   ]
  },
  {
   "cell_type": "code",
   "execution_count": 8,
   "id": "210b86fc",
   "metadata": {},
   "outputs": [
    {
     "name": "stdout",
     "output_type": "stream",
     "text": [
      "(20, 10)\n"
     ]
    }
   ],
   "source": [
    "print(sales_data.shape)"
   ]
  },
  {
   "cell_type": "code",
   "execution_count": 9,
   "id": "4fc64516",
   "metadata": {},
   "outputs": [
    {
     "name": "stdout",
     "output_type": "stream",
     "text": [
      "Transaction_ID      int64\n",
      "Date               object\n",
      "Customer_ID        object\n",
      "Product            object\n",
      "Category           object\n",
      "Quantity            int64\n",
      "Price               int64\n",
      "Total_Amount      float64\n",
      "Payment_Method     object\n",
      "Region             object\n",
      "dtype: object\n"
     ]
    }
   ],
   "source": [
    "print(sales_data.dtypes)"
   ]
  },
  {
   "cell_type": "code",
   "execution_count": 10,
   "id": "3c4a2654",
   "metadata": {},
   "outputs": [
    {
     "name": "stdout",
     "output_type": "stream",
     "text": [
      "<bound method DataFrame.info of     Transaction_ID        Date Customer_ID     Product     Category  Quantity  \\\n",
      "0             1001  2024-01-05        C001      Laptop  Electronics         1   \n",
      "1             1002  2024-01-10        C002  Smartphone  Electronics         2   \n",
      "2             1003  2024-01-12        C003  Headphones  Electronics         1   \n",
      "3             1004  2024-02-05        C004      Tablet  Electronics         1   \n",
      "4             1005  2024-02-08        C005        Book        Books         3   \n",
      "5             1006  2024-02-10        C001      Laptop  Electronics         1   \n",
      "6             1007  2024-03-15        C006       Shoes     Clothing         2   \n",
      "7             1008  2024-03-18        C007     T-Shirt     Clothing         1   \n",
      "8             1009  2024-03-20        C008  Smartwatch  Electronics         1   \n",
      "9             1010  2024-04-01        C009        Book        Books         2   \n",
      "10            1011  2024-04-05        C002  Smartphone  Electronics         2   \n",
      "11            1012  2024-04-10        C010      Tablet  Electronics         1   \n",
      "12            1013  2024-05-01        C011       Shoes     Clothing         1   \n",
      "13            1014  2024-05-05        C012  Headphones  Electronics         1   \n",
      "14            1015  2024-05-08        C013      Laptop  Electronics         1   \n",
      "15            1016  2024-05-10        C014     T-Shirt     Clothing         3   \n",
      "16            1017  2024-06-01        C015  Smartwatch  Electronics         1   \n",
      "17            1018  2024-06-05        C016        Book        Books         4   \n",
      "18            1019  2024-06-08        C017  Smartphone  Electronics         1   \n",
      "19            1020  2024-06-10        C018      Tablet  Electronics         1   \n",
      "\n",
      "    Price  Total_Amount Payment_Method Region  \n",
      "0     800           NaN    Credit Card  North  \n",
      "1     600        1200.0           Cash  South  \n",
      "2     100         100.0         PayPal   West  \n",
      "3     500         500.0     Debit Card   East  \n",
      "4      20          60.0    Credit Card  North  \n",
      "5     800         800.0    Credit Card  North  \n",
      "6      50         100.0           Cash  South  \n",
      "7      25          25.0         PayPal   West  \n",
      "8     200         200.0     Debit Card   East  \n",
      "9      20          40.0    Credit Card  North  \n",
      "10    600        1200.0           Cash  South  \n",
      "11    500         500.0     Debit Card   East  \n",
      "12     50          50.0           Cash  South  \n",
      "13    100         100.0         PayPal   West  \n",
      "14    800         800.0    Credit Card  North  \n",
      "15     25          75.0           Cash  South  \n",
      "16    200         200.0     Debit Card   East  \n",
      "17     20          80.0    Credit Card  North  \n",
      "18    600         600.0           Cash  South  \n",
      "19    500         500.0     Debit Card   East  >\n"
     ]
    }
   ],
   "source": [
    "print(sales_data.info) "
   ]
  },
  {
   "cell_type": "code",
   "execution_count": 11,
   "id": "bf621464",
   "metadata": {},
   "outputs": [
    {
     "name": "stdout",
     "output_type": "stream",
     "text": [
      "       Transaction_ID   Quantity       Price  Total_Amount\n",
      "count        20.00000  20.000000   20.000000     19.000000\n",
      "mean       1010.50000   1.550000  325.500000    375.263158\n",
      "std           5.91608   0.887041  302.484884    389.067524\n",
      "min        1001.00000   1.000000   20.000000     25.000000\n",
      "25%        1005.75000   1.000000   43.750000     77.500000\n",
      "50%        1010.50000   1.000000  200.000000    200.000000\n",
      "75%        1015.25000   2.000000  600.000000    550.000000\n",
      "max        1020.00000   4.000000  800.000000   1200.000000\n"
     ]
    }
   ],
   "source": [
    "print(sales_data.describe())"
   ]
  },
  {
   "cell_type": "markdown",
   "id": "96f55c2d",
   "metadata": {},
   "source": [
    "4. Data Cleaning"
   ]
  },
  {
   "cell_type": "markdown",
   "id": "3926544d",
   "metadata": {},
   "source": [
    "a. Remove Duplicates\n"
   ]
  },
  {
   "cell_type": "code",
   "execution_count": 12,
   "id": "9ebe4453",
   "metadata": {},
   "outputs": [
    {
     "name": "stdout",
     "output_type": "stream",
     "text": [
      "0\n"
     ]
    }
   ],
   "source": [
    "print(sales_data.duplicated().sum())"
   ]
  },
  {
   "cell_type": "code",
   "execution_count": 13,
   "id": "0cb8744f",
   "metadata": {},
   "outputs": [],
   "source": [
    "# sales_data = sales_data.drop_duplicates()"
   ]
  },
  {
   "cell_type": "markdown",
   "id": "40bb2a24",
   "metadata": {},
   "source": [
    "b. Handle Missing Values\n"
   ]
  },
  {
   "cell_type": "code",
   "execution_count": 14,
   "id": "cecfa8bf",
   "metadata": {},
   "outputs": [
    {
     "name": "stdout",
     "output_type": "stream",
     "text": [
      "Transaction_ID    0\n",
      "Date              0\n",
      "Customer_ID       0\n",
      "Product           0\n",
      "Category          0\n",
      "Quantity          0\n",
      "Price             0\n",
      "Total_Amount      1\n",
      "Payment_Method    0\n",
      "Region            0\n",
      "dtype: int64\n"
     ]
    }
   ],
   "source": [
    "print(sales_data.isnull().sum())"
   ]
  },
  {
   "cell_type": "markdown",
   "id": "def75dff",
   "metadata": {},
   "source": [
    "There is a missing value in the 'Total_Amount' column. Instead of dropping this column, which would result in loss of valuable information, we derive the missing values using the formula: (Total_Amount = Quantity × Price)."
   ]
  },
  {
   "cell_type": "code",
   "execution_count": 15,
   "id": "546d0180",
   "metadata": {},
   "outputs": [],
   "source": [
    "sales_data['Total_Amount'] = sales_data['Quantity'] * sales_data['Price']"
   ]
  },
  {
   "cell_type": "markdown",
   "id": "ca5e1f0c",
   "metadata": {},
   "source": [
    "c. Convert Data Types\n"
   ]
  },
  {
   "cell_type": "code",
   "execution_count": 16,
   "id": "4bed3b7b",
   "metadata": {},
   "outputs": [],
   "source": [
    "# Ensure 'Date' column is datetime\n",
    "sales_data['Date'] = pd.to_datetime(sales_data['Date'])"
   ]
  },
  {
   "cell_type": "markdown",
   "id": "e93613cc",
   "metadata": {},
   "source": [
    "5. Export Cleaned Data\n"
   ]
  },
  {
   "cell_type": "code",
   "execution_count": 17,
   "id": "1bf95036",
   "metadata": {},
   "outputs": [],
   "source": [
    "sales_data_cleaned = sales_data.copy()"
   ]
  },
  {
   "cell_type": "code",
   "execution_count": 18,
   "id": "70678c0e",
   "metadata": {},
   "outputs": [
    {
     "name": "stdout",
     "output_type": "stream",
     "text": [
      "Transaction_ID             int64\n",
      "Date              datetime64[ns]\n",
      "Customer_ID               object\n",
      "Product                   object\n",
      "Category                  object\n",
      "Quantity                   int64\n",
      "Price                      int64\n",
      "Total_Amount               int64\n",
      "Payment_Method            object\n",
      "Region                    object\n",
      "dtype: object\n"
     ]
    }
   ],
   "source": [
    "print(sales_data_cleaned.dtypes)"
   ]
  },
  {
   "cell_type": "code",
   "execution_count": 19,
   "id": "71c5cad8",
   "metadata": {},
   "outputs": [],
   "source": [
    "#sales_data_cleaned.to_csv('sales_data_cleaned.csv', index=False)"
   ]
  },
  {
   "cell_type": "markdown",
   "id": "d36ca88b",
   "metadata": {},
   "source": [
    "6. Exploratory Data Analysis"
   ]
  },
  {
   "cell_type": "code",
   "execution_count": 20,
   "id": "728e5589",
   "metadata": {},
   "outputs": [
    {
     "data": {
      "text/html": [
       "<div>\n",
       "<style scoped>\n",
       "    .dataframe tbody tr th:only-of-type {\n",
       "        vertical-align: middle;\n",
       "    }\n",
       "\n",
       "    .dataframe tbody tr th {\n",
       "        vertical-align: top;\n",
       "    }\n",
       "\n",
       "    .dataframe thead th {\n",
       "        text-align: right;\n",
       "    }\n",
       "</style>\n",
       "<table border=\"1\" class=\"dataframe\">\n",
       "  <thead>\n",
       "    <tr style=\"text-align: right;\">\n",
       "      <th></th>\n",
       "      <th>Transaction_ID</th>\n",
       "      <th>Date</th>\n",
       "      <th>Customer_ID</th>\n",
       "      <th>Product</th>\n",
       "      <th>Category</th>\n",
       "      <th>Quantity</th>\n",
       "      <th>Price</th>\n",
       "      <th>Total_Amount</th>\n",
       "      <th>Payment_Method</th>\n",
       "      <th>Region</th>\n",
       "    </tr>\n",
       "  </thead>\n",
       "  <tbody>\n",
       "    <tr>\n",
       "      <th>0</th>\n",
       "      <td>1001</td>\n",
       "      <td>2024-01-05</td>\n",
       "      <td>C001</td>\n",
       "      <td>Laptop</td>\n",
       "      <td>Electronics</td>\n",
       "      <td>1</td>\n",
       "      <td>800</td>\n",
       "      <td>800</td>\n",
       "      <td>Credit Card</td>\n",
       "      <td>North</td>\n",
       "    </tr>\n",
       "    <tr>\n",
       "      <th>1</th>\n",
       "      <td>1002</td>\n",
       "      <td>2024-01-10</td>\n",
       "      <td>C002</td>\n",
       "      <td>Smartphone</td>\n",
       "      <td>Electronics</td>\n",
       "      <td>2</td>\n",
       "      <td>600</td>\n",
       "      <td>1200</td>\n",
       "      <td>Cash</td>\n",
       "      <td>South</td>\n",
       "    </tr>\n",
       "  </tbody>\n",
       "</table>\n",
       "</div>"
      ],
      "text/plain": [
       "   Transaction_ID       Date Customer_ID     Product     Category  Quantity  \\\n",
       "0            1001 2024-01-05        C001      Laptop  Electronics         1   \n",
       "1            1002 2024-01-10        C002  Smartphone  Electronics         2   \n",
       "\n",
       "   Price  Total_Amount Payment_Method Region  \n",
       "0    800           800    Credit Card  North  \n",
       "1    600          1200           Cash  South  "
      ]
     },
     "execution_count": 20,
     "metadata": {},
     "output_type": "execute_result"
    }
   ],
   "source": [
    "sales_data_cleaned.head(2)"
   ]
  },
  {
   "cell_type": "markdown",
   "id": "206d30c4",
   "metadata": {},
   "source": [
    "a. Identify Repeated Customer IDs"
   ]
  },
  {
   "cell_type": "code",
   "execution_count": 21,
   "id": "dffaa794",
   "metadata": {},
   "outputs": [
    {
     "data": {
      "text/html": [
       "<div>\n",
       "<style scoped>\n",
       "    .dataframe tbody tr th:only-of-type {\n",
       "        vertical-align: middle;\n",
       "    }\n",
       "\n",
       "    .dataframe tbody tr th {\n",
       "        vertical-align: top;\n",
       "    }\n",
       "\n",
       "    .dataframe thead th {\n",
       "        text-align: right;\n",
       "    }\n",
       "</style>\n",
       "<table border=\"1\" class=\"dataframe\">\n",
       "  <thead>\n",
       "    <tr style=\"text-align: right;\">\n",
       "      <th></th>\n",
       "      <th>Transaction_ID</th>\n",
       "      <th>Date</th>\n",
       "      <th>Customer_ID</th>\n",
       "      <th>Product</th>\n",
       "      <th>Category</th>\n",
       "      <th>Quantity</th>\n",
       "      <th>Price</th>\n",
       "      <th>Total_Amount</th>\n",
       "      <th>Payment_Method</th>\n",
       "      <th>Region</th>\n",
       "    </tr>\n",
       "  </thead>\n",
       "  <tbody>\n",
       "    <tr>\n",
       "      <th>0</th>\n",
       "      <td>1001</td>\n",
       "      <td>2024-01-05</td>\n",
       "      <td>C001</td>\n",
       "      <td>Laptop</td>\n",
       "      <td>Electronics</td>\n",
       "      <td>1</td>\n",
       "      <td>800</td>\n",
       "      <td>800</td>\n",
       "      <td>Credit Card</td>\n",
       "      <td>North</td>\n",
       "    </tr>\n",
       "    <tr>\n",
       "      <th>1</th>\n",
       "      <td>1002</td>\n",
       "      <td>2024-01-10</td>\n",
       "      <td>C002</td>\n",
       "      <td>Smartphone</td>\n",
       "      <td>Electronics</td>\n",
       "      <td>2</td>\n",
       "      <td>600</td>\n",
       "      <td>1200</td>\n",
       "      <td>Cash</td>\n",
       "      <td>South</td>\n",
       "    </tr>\n",
       "    <tr>\n",
       "      <th>5</th>\n",
       "      <td>1006</td>\n",
       "      <td>2024-02-10</td>\n",
       "      <td>C001</td>\n",
       "      <td>Laptop</td>\n",
       "      <td>Electronics</td>\n",
       "      <td>1</td>\n",
       "      <td>800</td>\n",
       "      <td>800</td>\n",
       "      <td>Credit Card</td>\n",
       "      <td>North</td>\n",
       "    </tr>\n",
       "    <tr>\n",
       "      <th>10</th>\n",
       "      <td>1011</td>\n",
       "      <td>2024-04-05</td>\n",
       "      <td>C002</td>\n",
       "      <td>Smartphone</td>\n",
       "      <td>Electronics</td>\n",
       "      <td>2</td>\n",
       "      <td>600</td>\n",
       "      <td>1200</td>\n",
       "      <td>Cash</td>\n",
       "      <td>South</td>\n",
       "    </tr>\n",
       "  </tbody>\n",
       "</table>\n",
       "</div>"
      ],
      "text/plain": [
       "    Transaction_ID       Date Customer_ID     Product     Category  Quantity  \\\n",
       "0             1001 2024-01-05        C001      Laptop  Electronics         1   \n",
       "1             1002 2024-01-10        C002  Smartphone  Electronics         2   \n",
       "5             1006 2024-02-10        C001      Laptop  Electronics         1   \n",
       "10            1011 2024-04-05        C002  Smartphone  Electronics         2   \n",
       "\n",
       "    Price  Total_Amount Payment_Method Region  \n",
       "0     800           800    Credit Card  North  \n",
       "1     600          1200           Cash  South  \n",
       "5     800           800    Credit Card  North  \n",
       "10    600          1200           Cash  South  "
      ]
     },
     "execution_count": 21,
     "metadata": {},
     "output_type": "execute_result"
    }
   ],
   "source": [
    "repeat_customers = sales_data_cleaned[sales_data_cleaned.duplicated(subset=['Customer_ID'], keep=False)]\n",
    "repeat_customers"
   ]
  },
  {
   "cell_type": "markdown",
   "id": "7b54c6ae",
   "metadata": {},
   "source": [
    "Customer IDs such as C001 and C002 appear multiple times. These represent identical orders placed on different dates, likely indicating repeated purchases rather than data errors. No rows are dropped."
   ]
  },
  {
   "cell_type": "markdown",
   "id": "a65ad7f0",
   "metadata": {},
   "source": [
    "b. Explore Unique Categorical Values"
   ]
  },
  {
   "cell_type": "code",
   "execution_count": 22,
   "id": "522e688d",
   "metadata": {},
   "outputs": [
    {
     "name": "stdout",
     "output_type": "stream",
     "text": [
      "['Laptop' 'Smartphone' 'Headphones' 'Tablet' 'Book' 'Shoes' 'T-Shirt'\n",
      " 'Smartwatch']\n"
     ]
    }
   ],
   "source": [
    "# Get unique products \n",
    "\n",
    "unique_products = sales_data_cleaned['Product'].unique()\n",
    "print(unique_products)"
   ]
  },
  {
   "cell_type": "code",
   "execution_count": 23,
   "id": "d36085c4",
   "metadata": {},
   "outputs": [
    {
     "name": "stdout",
     "output_type": "stream",
     "text": [
      "['Electronics' 'Books' 'Clothing']\n"
     ]
    }
   ],
   "source": [
    "# Get unique categories \n",
    "\n",
    "unique_categories = sales_data_cleaned['Category'].unique()\n",
    "print(unique_categories)"
   ]
  },
  {
   "cell_type": "code",
   "execution_count": 24,
   "id": "49525058",
   "metadata": {},
   "outputs": [
    {
     "name": "stdout",
     "output_type": "stream",
     "text": [
      "['Credit Card' 'Cash' 'PayPal' 'Debit Card']\n"
     ]
    }
   ],
   "source": [
    "# unique payment methods\n",
    "\n",
    "unique_payment_methods = sales_data_cleaned['Payment_Method'].unique()\n",
    "print(unique_payment_methods)"
   ]
  },
  {
   "cell_type": "code",
   "execution_count": 25,
   "id": "aff1930c",
   "metadata": {},
   "outputs": [
    {
     "name": "stdout",
     "output_type": "stream",
     "text": [
      "['North' 'South' 'West' 'East']\n"
     ]
    }
   ],
   "source": [
    "# unique regions\n",
    "\n",
    "unique_regions = sales_data_cleaned['Region'].unique()\n",
    "print(unique_regions)"
   ]
  },
  {
   "cell_type": "markdown",
   "id": "159a669e",
   "metadata": {},
   "source": [
    "c. Sales Trends Analysis"
   ]
  },
  {
   "cell_type": "markdown",
   "id": "e0ff1f42",
   "metadata": {},
   "source": [
    "Sales Over Time"
   ]
  },
  {
   "cell_type": "code",
   "execution_count": 26,
   "id": "701a3d41",
   "metadata": {},
   "outputs": [
    {
     "name": "stdout",
     "output_type": "stream",
     "text": [
      "         Date  Total_Amount\n",
      "7  2024-03-18            25\n",
      "9  2024-04-01            40\n",
      "12 2024-05-01            50\n",
      "4  2024-02-08            60\n",
      "15 2024-05-10            75\n",
      "17 2024-06-05            80\n",
      "2  2024-01-12           100\n",
      "13 2024-05-05           100\n",
      "6  2024-03-15           100\n",
      "8  2024-03-20           200\n",
      "16 2024-06-01           200\n",
      "11 2024-04-10           500\n",
      "3  2024-02-05           500\n",
      "19 2024-06-10           500\n",
      "18 2024-06-08           600\n",
      "0  2024-01-05           800\n",
      "5  2024-02-10           800\n",
      "14 2024-05-08           800\n",
      "10 2024-04-05          1200\n",
      "1  2024-01-10          1200\n"
     ]
    }
   ],
   "source": [
    "sale_trends = sales_data_cleaned.groupby('Date')['Total_Amount'].sum().reset_index().sort_values(by='Total_Amount', ascending=True)\n",
    "print(sale_trends)"
   ]
  },
  {
   "cell_type": "markdown",
   "id": "78e1bbf3",
   "metadata": {},
   "source": [
    "Monthly Sales Trends"
   ]
  },
  {
   "cell_type": "code",
   "execution_count": 27,
   "id": "da1513f5",
   "metadata": {},
   "outputs": [],
   "source": [
    "# Extract month and year\n",
    "sales_data_cleaned['Month'] = sales_data_cleaned['Date'].dt.to_period('M')\n",
    "\n",
    "# Group by month\n",
    "monthly_sales = sales_data_cleaned.groupby('Month')['Total_Amount'].sum().reset_index()\n",
    "\n",
    "# Convert period to datetime for plotting\n",
    "monthly_sales['Month'] = monthly_sales['Month'].dt.to_timestamp()\n"
   ]
  },
  {
   "cell_type": "markdown",
   "id": "c08de7ee",
   "metadata": {},
   "source": [
    "Best-selling months "
   ]
  },
  {
   "cell_type": "code",
   "execution_count": 28,
   "id": "cb0a7237",
   "metadata": {},
   "outputs": [
    {
     "name": "stdout",
     "output_type": "stream",
     "text": [
      "       Month  Total_Amount\n",
      "0 2024-01-01          2100\n",
      "3 2024-04-01          1740\n",
      "5 2024-06-01          1380\n",
      "1 2024-02-01          1360\n",
      "4 2024-05-01          1025\n"
     ]
    }
   ],
   "source": [
    "# Sort monthly sales in descending order to find best-selling months\n",
    "best_selling_months = monthly_sales.sort_values(by='Total_Amount', ascending=False)\n",
    "\n",
    "# Display top 5 best-selling months\n",
    "print(best_selling_months.head())"
   ]
  },
  {
   "cell_type": "markdown",
   "id": "3809695e",
   "metadata": {},
   "source": [
    "Category-wise Sales"
   ]
  },
  {
   "cell_type": "code",
   "execution_count": 29,
   "id": "79d15c5f",
   "metadata": {},
   "outputs": [
    {
     "name": "stdout",
     "output_type": "stream",
     "text": [
      "      Category  Total_Amount\n",
      "2  Electronics          7500\n",
      "1     Clothing           250\n",
      "0        Books           180\n"
     ]
    }
   ],
   "source": [
    "Category_sales = sales_data_cleaned.groupby('Category')[['Total_Amount']].sum().reset_index().sort_values(by='Total_Amount', ascending=False)\n",
    "print(Category_sales)"
   ]
  },
  {
   "cell_type": "markdown",
   "id": "aa98f5f0",
   "metadata": {},
   "source": [
    "Product-wise Sales"
   ]
  },
  {
   "cell_type": "code",
   "execution_count": 30,
   "id": "baf76e84",
   "metadata": {},
   "outputs": [
    {
     "name": "stdout",
     "output_type": "stream",
     "text": [
      "      Product  Quantity\n",
      "0        Book         9\n",
      "4  Smartphone         5\n",
      "6     T-Shirt         4\n",
      "2      Laptop         3\n",
      "7      Tablet         3\n",
      "3       Shoes         3\n",
      "1  Headphones         2\n",
      "5  Smartwatch         2\n"
     ]
    }
   ],
   "source": [
    "product_sales_quantity = sales_data_cleaned.groupby('Product')[['Quantity']].sum().reset_index().sort_values(by='Quantity', ascending=False)\n",
    "print(product_sales_quantity)"
   ]
  },
  {
   "cell_type": "code",
   "execution_count": 31,
   "id": "27c6a60f",
   "metadata": {},
   "outputs": [
    {
     "name": "stdout",
     "output_type": "stream",
     "text": [
      "      Product  Total_Amount\n",
      "4  Smartphone          3000\n",
      "2      Laptop          2400\n",
      "7      Tablet          1500\n",
      "5  Smartwatch           400\n",
      "1  Headphones           200\n",
      "0        Book           180\n",
      "3       Shoes           150\n",
      "6     T-Shirt           100\n"
     ]
    }
   ],
   "source": [
    "product_sales_revenue = sales_data_cleaned.groupby('Product')[['Total_Amount']].sum().reset_index().sort_values(by='Total_Amount', ascending=False)\n",
    "print(product_sales_revenue)"
   ]
  },
  {
   "cell_type": "markdown",
   "id": "c1ac85f8",
   "metadata": {},
   "source": [
    "Correlation Analysis"
   ]
  },
  {
   "cell_type": "code",
   "execution_count": 32,
   "id": "90c78fd2",
   "metadata": {},
   "outputs": [
    {
     "data": {
      "text/html": [
       "<div>\n",
       "<style scoped>\n",
       "    .dataframe tbody tr th:only-of-type {\n",
       "        vertical-align: middle;\n",
       "    }\n",
       "\n",
       "    .dataframe tbody tr th {\n",
       "        vertical-align: top;\n",
       "    }\n",
       "\n",
       "    .dataframe thead th {\n",
       "        text-align: right;\n",
       "    }\n",
       "</style>\n",
       "<table border=\"1\" class=\"dataframe\">\n",
       "  <thead>\n",
       "    <tr style=\"text-align: right;\">\n",
       "      <th></th>\n",
       "      <th>Transaction_ID</th>\n",
       "      <th>Quantity</th>\n",
       "      <th>Price</th>\n",
       "      <th>Total_Amount</th>\n",
       "    </tr>\n",
       "  </thead>\n",
       "  <tbody>\n",
       "    <tr>\n",
       "      <th>Transaction_ID</th>\n",
       "      <td>1.000000</td>\n",
       "      <td>0.105307</td>\n",
       "      <td>-0.129261</td>\n",
       "      <td>-0.202232</td>\n",
       "    </tr>\n",
       "    <tr>\n",
       "      <th>Quantity</th>\n",
       "      <td>0.105307</td>\n",
       "      <td>1.000000</td>\n",
       "      <td>-0.423792</td>\n",
       "      <td>-0.199315</td>\n",
       "    </tr>\n",
       "    <tr>\n",
       "      <th>Price</th>\n",
       "      <td>-0.129261</td>\n",
       "      <td>-0.423792</td>\n",
       "      <td>1.000000</td>\n",
       "      <td>0.892401</td>\n",
       "    </tr>\n",
       "    <tr>\n",
       "      <th>Total_Amount</th>\n",
       "      <td>-0.202232</td>\n",
       "      <td>-0.199315</td>\n",
       "      <td>0.892401</td>\n",
       "      <td>1.000000</td>\n",
       "    </tr>\n",
       "  </tbody>\n",
       "</table>\n",
       "</div>"
      ],
      "text/plain": [
       "                Transaction_ID  Quantity     Price  Total_Amount\n",
       "Transaction_ID        1.000000  0.105307 -0.129261     -0.202232\n",
       "Quantity              0.105307  1.000000 -0.423792     -0.199315\n",
       "Price                -0.129261 -0.423792  1.000000      0.892401\n",
       "Total_Amount         -0.202232 -0.199315  0.892401      1.000000"
      ]
     },
     "execution_count": 32,
     "metadata": {},
     "output_type": "execute_result"
    }
   ],
   "source": [
    "# Only numeric columns for correlation to understand relationships \n",
    "corr_matrix = sales_data_cleaned.select_dtypes(include=['number']).corr()\n",
    "\n",
    "corr_matrix"
   ]
  },
  {
   "cell_type": "markdown",
   "id": "366695a1",
   "metadata": {},
   "source": [
    "Categorical Value Counts"
   ]
  },
  {
   "cell_type": "code",
   "execution_count": 33,
   "id": "c6798542",
   "metadata": {},
   "outputs": [
    {
     "name": "stdout",
     "output_type": "stream",
     "text": [
      "Category\n",
      "Electronics    13\n",
      "Clothing        4\n",
      "Books           3\n",
      "Name: count, dtype: int64\n"
     ]
    }
   ],
   "source": [
    "category_counts = sales_data_cleaned['Category'].value_counts()\n",
    "print(category_counts)"
   ]
  },
  {
   "cell_type": "code",
   "execution_count": 34,
   "id": "2e00a90b",
   "metadata": {},
   "outputs": [
    {
     "name": "stdout",
     "output_type": "stream",
     "text": [
      "Product\n",
      "Laptop        3\n",
      "Smartphone    3\n",
      "Tablet        3\n",
      "Book          3\n",
      "Headphones    2\n",
      "Shoes         2\n",
      "T-Shirt       2\n",
      "Smartwatch    2\n",
      "Name: count, dtype: int64\n"
     ]
    }
   ],
   "source": [
    "product_counts = sales_data_cleaned['Product'].value_counts()\n",
    "print(product_counts)"
   ]
  },
  {
   "cell_type": "code",
   "execution_count": 35,
   "id": "08438b00",
   "metadata": {},
   "outputs": [
    {
     "name": "stdout",
     "output_type": "stream",
     "text": [
      "Payment_Method\n",
      "Credit Card    6\n",
      "Cash           6\n",
      "Debit Card     5\n",
      "PayPal         3\n",
      "Name: count, dtype: int64\n"
     ]
    }
   ],
   "source": [
    "payment_method_counts = sales_data_cleaned['Payment_Method'].value_counts()\n",
    "print(payment_method_counts)"
   ]
  },
  {
   "cell_type": "markdown",
   "id": "4b3f5418",
   "metadata": {},
   "source": [
    "Top and Bottom Products by Quantity Sold"
   ]
  },
  {
   "cell_type": "code",
   "execution_count": 36,
   "id": "68a3c67b",
   "metadata": {},
   "outputs": [
    {
     "name": "stdout",
     "output_type": "stream",
     "text": [
      "Top-selling product by quantity: Book\n"
     ]
    }
   ],
   "source": [
    "top_index = product_sales_quantity['Quantity'].idxmax()\n",
    "top_product_by_quantity = product_sales_quantity.loc[top_index]\n",
    "print(\"Top-selling product by quantity:\", top_product_by_quantity['Product'])"
   ]
  },
  {
   "cell_type": "code",
   "execution_count": 37,
   "id": "bee5f0be",
   "metadata": {},
   "outputs": [
    {
     "name": "stdout",
     "output_type": "stream",
     "text": [
      "Least-selling product by quantity: Headphones\n"
     ]
    }
   ],
   "source": [
    "least_index = product_sales_quantity['Quantity'].idxmin()\n",
    "least_product_by_quantity = product_sales_quantity.loc[least_index]\n",
    "print(\"Least-selling product by quantity:\", least_product_by_quantity['Product'])"
   ]
  },
  {
   "cell_type": "markdown",
   "id": "a5257826",
   "metadata": {},
   "source": [
    "7. Visualisations"
   ]
  },
  {
   "cell_type": "markdown",
   "id": "8f6f7c14",
   "metadata": {},
   "source": [
    "a. Monthly Total Sales Over Time"
   ]
  },
  {
   "cell_type": "code",
   "execution_count": 38,
   "id": "4863a978",
   "metadata": {},
   "outputs": [
    {
     "data": {
      "image/png": "[encoded data removed]",
      "text/plain": [
       "<Figure size 1000x500 with 1 Axes>"
      ]
     },
     "metadata": {},
     "output_type": "display_data"
    }
   ],
   "source": [
    "plt.figure(figsize=(10, 5))\n",
    "plt.plot(monthly_sales['Month'], monthly_sales['Total_Amount'], marker='o', color='blue')\n",
    "plt.title(\"Monthly Total Sales Over Time\")\n",
    "plt.xlabel(\"Month\")\n",
    "plt.ylabel(\"Total Sales\")\n",
    "plt.grid(True)\n",
    "plt.xticks(rotation=45)\n",
    "plt.tight_layout()\n",
    "plt.show()"
   ]
  },
  {
   "cell_type": "markdown",
   "id": "6352bfe4",
   "metadata": {},
   "source": [
    "b. Top 5 Best-Selling Months"
   ]
  },
  {
   "cell_type": "code",
   "execution_count": 39,
   "id": "5514119b",
   "metadata": {},
   "outputs": [
    {
     "data": {
      "image/png": "[encoded data removed]",
      "text/plain": [
       "<Figure size 1200x600 with 1 Axes>"
      ]
     },
     "metadata": {},
     "output_type": "display_data"
    }
   ],
   "source": [
    "plt.figure(figsize=(12, 6))\n",
    "sns.barplot(x= best_selling_months['Month'], y= best_selling_months['Total_Amount'])\n",
    "plt.title(\"Top 5 Best-Selling Months\")\n",
    "plt.xlabel(\"YearMonth\")\n",
    "plt.ylabel(\"Total Sales\")   \n",
    "plt.xticks(rotation=45)\n",
    "plt.tight_layout()\n",
    "plt.show()"
   ]
  },
  {
   "cell_type": "markdown",
   "id": "ad9f37a7",
   "metadata": {},
   "source": [
    "Observation: January 2024 had the highest sales, followed by February 2024. March 2024 recorded the lowest sales."
   ]
  },
  {
   "cell_type": "markdown",
   "id": "204f0fd9",
   "metadata": {},
   "source": [
    "c. Total Sale revenue by Category"
   ]
  },
  {
   "cell_type": "code",
   "execution_count": 40,
   "id": "ecdc1256",
   "metadata": {},
   "outputs": [
    {
     "data": {
      "image/png": "[encoded data removed]",
      "text/plain": [
       "<Figure size 800x500 with 1 Axes>"
      ]
     },
     "metadata": {},
     "output_type": "display_data"
    }
   ],
   "source": [
    "plt.figure(figsize=(8, 5))\n",
    "sns.barplot(x='Category', y='Total_Amount', data=Category_sales, hue='Total_Amount', palette='cividis')\n",
    "plt.title(\"Total Sales Revenue by Category\")\n",
    "plt.xlabel(\"Category\")\n",
    "plt.ylabel(\"Total Sales Revenue\")\n",
    "plt.xticks(rotation=45)\n",
    "plt.tight_layout()\n",
    "plt.show()"
   ]
  },
  {
   "cell_type": "markdown",
   "id": "10e5c55e",
   "metadata": {},
   "source": [
    "d. Sale Count by Category"
   ]
  },
  {
   "cell_type": "code",
   "execution_count": 41,
   "id": "928613ca",
   "metadata": {},
   "outputs": [
    {
     "data": {
      "image/png": "[encoded data removed]",
      "text/plain": [
       "<Figure size 1000x600 with 1 Axes>"
      ]
     },
     "metadata": {},
     "output_type": "display_data"
    }
   ],
   "source": [
    "category_counts = sales_data_cleaned['Category'].value_counts()\n",
    "plt.figure(figsize=(10, 6))\n",
    "sns.barplot(x=category_counts.index, y=category_counts.values, hue= category_counts.index, palette='viridis')\n",
    "plt.title(\"Sales Count by Category\")\n",
    "plt.xlabel(\"Category\")\n",
    "plt.ylabel(\"Count\")\n",
    "plt.xticks(rotation=45)\n",
    "plt.tight_layout()\n",
    "plt.show()"
   ]
  },
  {
   "cell_type": "markdown",
   "id": "83dc1ef8",
   "metadata": {},
   "source": [
    "Observation: The Electronics category had the highest number of sales, followed by Clothing and Books. Electronics accounted for 13 entries, indicating it is the most popular category."
   ]
  },
  {
   "cell_type": "markdown",
   "id": "bc4bfd05",
   "metadata": {},
   "source": [
    "e. HeatMap of Correlation"
   ]
  },
  {
   "cell_type": "code",
   "execution_count": 42,
   "id": "133c0601",
   "metadata": {},
   "outputs": [
    {
     "data": {
      "image/png": "[encoded data removed]",
      "text/plain": [
       "<Figure size 640x480 with 2 Axes>"
      ]
     },
     "metadata": {},
     "output_type": "display_data"
    },
    {
     "data": {
      "text/plain": [
       "<Figure size 1000x800 with 0 Axes>"
      ]
     },
     "metadata": {},
     "output_type": "display_data"
    }
   ],
   "source": [
    "sns.heatmap(corr_matrix, annot=True, cmap= 'twilight')\n",
    "plt.title(\"Correlation Matrix of Numeric Features\")\n",
    "plt.tight_layout()\n",
    "plt.figure(figsize=(10, 8))\n",
    "plt.show()"
   ]
  }
 ],
 "metadata": {
  "kernelspec": {
   "display_name": ".venv",
   "language": "python",
   "name": "python3"
  },
  "language_info": {
   "codemirror_mode": {
    "name": "ipython",
    "version": 3
   },
   "file_extension": ".py",
   "mimetype": "text/x-python",
   "name": "python",
   "nbconvert_exporter": "python",
   "pygments_lexer": "ipython3",
   "version": "3.12.9"
  }
 },
 "nbformat": 4,
 "nbformat_minor": 5
}
