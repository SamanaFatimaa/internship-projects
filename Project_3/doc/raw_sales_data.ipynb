{
 "cells": [
  {
   "cell_type": "markdown",
   "id": "cfa65da8",
   "metadata": {},
   "source": [
    "# Import Necessary Libraries"
   ]
  },
  {
   "cell_type": "code",
   "execution_count": 1,
   "id": "227803b1",
   "metadata": {},
   "outputs": [],
   "source": [
    "import pandas as pd\n",
    "import matplotlib.pyplot as plt \n",
    "import numpy as np\n",
    "import seaborn as sns"
   ]
  },
  {
   "cell_type": "code",
   "execution_count": 2,
   "id": "5bb728a7",
   "metadata": {},
   "outputs": [],
   "source": [
    "# Scikit-learn: Machine Learning tools\n",
    "from sklearn.model_selection import train_test_split\n",
    "from sklearn.model_selection import cross_val_score\n",
    "from sklearn.linear_model import LinearRegression, LogisticRegression\n",
    "from sklearn.tree import DecisionTreeClassifier, plot_tree\n",
    "from sklearn.cluster import KMeans\n",
    "from sklearn.ensemble import RandomForestClassifier\n",
    "from sklearn.metrics import accuracy_score, classification_report\n",
    "from xgboost import XGBClassifier\n",
    "from sklearn.preprocessing import StandardScaler, LabelEncoder\n",
    "from sklearn.metrics import (\n",
    "    accuracy_score,\n",
    "    root_mean_squared_error,\n",
    "    confusion_matrix,\n",
    "    classification_report,\n",
    "    r2_score\n",
    ")\n",
    "\n",
    "# Statsmodels: For statistical modeling and inference\n",
    "import statsmodels.api as sm\n",
    "import statsmodels.formula.api as smf\n",
    "from scipy.stats import zscore\n",
    "from scipy.stats import f_oneway\n",
    "from scipy.stats import ttest_ind\n",
    "from sklearn.decomposition import FactorAnalysis"
   ]
  },
  {
   "cell_type": "markdown",
   "id": "2efcc194",
   "metadata": {},
   "source": [
    "# 1. Data Loading and Inspection"
   ]
  },
  {
   "cell_type": "code",
   "execution_count": 3,
   "id": "121e7956",
   "metadata": {},
   "outputs": [],
   "source": [
    "file_path = r'C:\\Users\\saman\\workspace\\data_analysis_internship\\Project_3\\doc\\data\\raw_sales_data_week_3.csv'"
   ]
  },
  {
   "cell_type": "code",
   "execution_count": 4,
   "id": "3540a14d",
   "metadata": {},
   "outputs": [],
   "source": [
    "raw_sales_data = pd.read_csv(file_path, sep= ',')"
   ]
  },
  {
   "cell_type": "code",
   "execution_count": 5,
   "id": "c4bfc8bc",
   "metadata": {},
   "outputs": [
    {
     "data": {
      "text/html": [
       "<div>\n",
       "<style scoped>\n",
       "    .dataframe tbody tr th:only-of-type {\n",
       "        vertical-align: middle;\n",
       "    }\n",
       "\n",
       "    .dataframe tbody tr th {\n",
       "        vertical-align: top;\n",
       "    }\n",
       "\n",
       "    .dataframe thead th {\n",
       "        text-align: right;\n",
       "    }\n",
       "</style>\n",
       "<table border=\"1\" class=\"dataframe\">\n",
       "  <thead>\n",
       "    <tr style=\"text-align: right;\">\n",
       "      <th></th>\n",
       "      <th>Customer_ID</th>\n",
       "      <th>Customer_Name</th>\n",
       "      <th>Region</th>\n",
       "      <th>Total_Spend</th>\n",
       "      <th>Purchase_Frequency</th>\n",
       "      <th>Marketing_Spend</th>\n",
       "      <th>Seasonality_Index</th>\n",
       "      <th>Churned</th>\n",
       "    </tr>\n",
       "  </thead>\n",
       "  <tbody>\n",
       "    <tr>\n",
       "      <th>0</th>\n",
       "      <td>101</td>\n",
       "      <td>John Doe</td>\n",
       "      <td>North</td>\n",
       "      <td>5000</td>\n",
       "      <td>12</td>\n",
       "      <td>2000</td>\n",
       "      <td>1.2</td>\n",
       "      <td>No</td>\n",
       "    </tr>\n",
       "    <tr>\n",
       "      <th>1</th>\n",
       "      <td>102</td>\n",
       "      <td>Jane Smith</td>\n",
       "      <td>South</td>\n",
       "      <td>3000</td>\n",
       "      <td>8</td>\n",
       "      <td>1500</td>\n",
       "      <td>NaN</td>\n",
       "      <td>Yes</td>\n",
       "    </tr>\n",
       "    <tr>\n",
       "      <th>2</th>\n",
       "      <td>103</td>\n",
       "      <td>Sam Brown</td>\n",
       "      <td>East</td>\n",
       "      <td>4500</td>\n",
       "      <td>10</td>\n",
       "      <td>1800</td>\n",
       "      <td>1.1</td>\n",
       "      <td>No</td>\n",
       "    </tr>\n",
       "    <tr>\n",
       "      <th>3</th>\n",
       "      <td>104</td>\n",
       "      <td>Linda Johnson</td>\n",
       "      <td>West</td>\n",
       "      <td>2500</td>\n",
       "      <td>5</td>\n",
       "      <td>1000</td>\n",
       "      <td>0.9</td>\n",
       "      <td>Yes</td>\n",
       "    </tr>\n",
       "    <tr>\n",
       "      <th>4</th>\n",
       "      <td>105</td>\n",
       "      <td>Michael Lee</td>\n",
       "      <td>North</td>\n",
       "      <td>7000</td>\n",
       "      <td>15</td>\n",
       "      <td>2500</td>\n",
       "      <td>1.3</td>\n",
       "      <td>N</td>\n",
       "    </tr>\n",
       "  </tbody>\n",
       "</table>\n",
       "</div>"
      ],
      "text/plain": [
       "   Customer_ID  Customer_Name Region  Total_Spend  Purchase_Frequency  \\\n",
       "0          101       John Doe  North         5000                  12   \n",
       "1          102     Jane Smith  South         3000                   8   \n",
       "2          103      Sam Brown   East         4500                  10   \n",
       "3          104  Linda Johnson   West         2500                   5   \n",
       "4          105    Michael Lee  North         7000                  15   \n",
       "\n",
       "   Marketing_Spend  Seasonality_Index Churned  \n",
       "0             2000                1.2      No  \n",
       "1             1500                NaN     Yes  \n",
       "2             1800                1.1      No  \n",
       "3             1000                0.9     Yes  \n",
       "4             2500                1.3       N  "
      ]
     },
     "execution_count": 5,
     "metadata": {},
     "output_type": "execute_result"
    }
   ],
   "source": [
    "raw_sales_data.head()"
   ]
  },
  {
   "cell_type": "code",
   "execution_count": 6,
   "id": "0da4e812",
   "metadata": {},
   "outputs": [
    {
     "name": "stdout",
     "output_type": "stream",
     "text": [
      "(24, 8)\n"
     ]
    }
   ],
   "source": [
    "print(raw_sales_data.shape)"
   ]
  },
  {
   "cell_type": "code",
   "execution_count": 7,
   "id": "3eac50af",
   "metadata": {},
   "outputs": [
    {
     "name": "stdout",
     "output_type": "stream",
     "text": [
      "Index(['Customer_ID', 'Customer_Name', 'Region', 'Total_Spend',\n",
      "       'Purchase_Frequency', 'Marketing_Spend', 'Seasonality_Index',\n",
      "       'Churned'],\n",
      "      dtype='object')\n"
     ]
    }
   ],
   "source": [
    "print(raw_sales_data.columns)"
   ]
  },
  {
   "cell_type": "code",
   "execution_count": 8,
   "id": "ce711803",
   "metadata": {},
   "outputs": [
    {
     "name": "stdout",
     "output_type": "stream",
     "text": [
      "Customer_ID             int64\n",
      "Customer_Name          object\n",
      "Region                 object\n",
      "Total_Spend             int64\n",
      "Purchase_Frequency      int64\n",
      "Marketing_Spend         int64\n",
      "Seasonality_Index     float64\n",
      "Churned                object\n",
      "dtype: object\n"
     ]
    }
   ],
   "source": [
    "print(raw_sales_data.dtypes)"
   ]
  },
  {
   "cell_type": "code",
   "execution_count": 9,
   "id": "94d56a23",
   "metadata": {},
   "outputs": [
    {
     "name": "stdout",
     "output_type": "stream",
     "text": [
      "<class 'pandas.core.frame.DataFrame'>\n",
      "RangeIndex: 24 entries, 0 to 23\n",
      "Data columns (total 8 columns):\n",
      " #   Column              Non-Null Count  Dtype  \n",
      "---  ------              --------------  -----  \n",
      " 0   Customer_ID         24 non-null     int64  \n",
      " 1   Customer_Name       24 non-null     object \n",
      " 2   Region              24 non-null     object \n",
      " 3   Total_Spend         24 non-null     int64  \n",
      " 4   Purchase_Frequency  24 non-null     int64  \n",
      " 5   Marketing_Spend     24 non-null     int64  \n",
      " 6   Seasonality_Index   23 non-null     float64\n",
      " 7   Churned             24 non-null     object \n",
      "dtypes: float64(1), int64(4), object(3)\n",
      "memory usage: 1.6+ KB\n"
     ]
    }
   ],
   "source": [
    "raw_sales_data.info()"
   ]
  },
  {
   "cell_type": "code",
   "execution_count": 10,
   "id": "41fee3c0",
   "metadata": {},
   "outputs": [
    {
     "name": "stdout",
     "output_type": "stream",
     "text": [
      "0\n"
     ]
    }
   ],
   "source": [
    "print(raw_sales_data.duplicated().sum())"
   ]
  },
  {
   "cell_type": "code",
   "execution_count": 11,
   "id": "d2eb4660",
   "metadata": {},
   "outputs": [
    {
     "name": "stdout",
     "output_type": "stream",
     "text": [
      "Customer_ID           0\n",
      "Customer_Name         0\n",
      "Region                0\n",
      "Total_Spend           0\n",
      "Purchase_Frequency    0\n",
      "Marketing_Spend       0\n",
      "Seasonality_Index     1\n",
      "Churned               0\n",
      "dtype: int64\n"
     ]
    }
   ],
   "source": [
    "print(raw_sales_data.isnull().sum())"
   ]
  },
  {
   "cell_type": "code",
   "execution_count": 12,
   "id": "8d114e9a",
   "metadata": {},
   "outputs": [],
   "source": [
    "# Fill missing Seasonality_Index with median\n",
    "raw_sales_data['Seasonality_Index'] = raw_sales_data['Seasonality_Index'].fillna(raw_sales_data['Seasonality_Index'].median())"
   ]
  },
  {
   "cell_type": "code",
   "execution_count": 13,
   "id": "af37c964",
   "metadata": {},
   "outputs": [],
   "source": [
    "# Normalize Churned values\n",
    "raw_sales_data['Churned'] = raw_sales_data['Churned'].astype(str).str.strip().str.capitalize()"
   ]
  },
  {
   "cell_type": "code",
   "execution_count": 14,
   "id": "646ed1ec",
   "metadata": {},
   "outputs": [],
   "source": [
    "raw_sales_data['Churned'] = raw_sales_data['Churned'].replace({'Y': 'Yes', 'N': 'No'})"
   ]
  },
  {
   "cell_type": "code",
   "execution_count": 15,
   "id": "07f8a091",
   "metadata": {},
   "outputs": [
    {
     "data": {
      "text/html": [
       "<div>\n",
       "<style scoped>\n",
       "    .dataframe tbody tr th:only-of-type {\n",
       "        vertical-align: middle;\n",
       "    }\n",
       "\n",
       "    .dataframe tbody tr th {\n",
       "        vertical-align: top;\n",
       "    }\n",
       "\n",
       "    .dataframe thead th {\n",
       "        text-align: right;\n",
       "    }\n",
       "</style>\n",
       "<table border=\"1\" class=\"dataframe\">\n",
       "  <thead>\n",
       "    <tr style=\"text-align: right;\">\n",
       "      <th></th>\n",
       "      <th>Customer_ID</th>\n",
       "      <th>Customer_Name</th>\n",
       "      <th>Region</th>\n",
       "      <th>Total_Spend</th>\n",
       "      <th>Purchase_Frequency</th>\n",
       "      <th>Marketing_Spend</th>\n",
       "      <th>Seasonality_Index</th>\n",
       "      <th>Churned</th>\n",
       "    </tr>\n",
       "  </thead>\n",
       "  <tbody>\n",
       "    <tr>\n",
       "      <th>0</th>\n",
       "      <td>101</td>\n",
       "      <td>John Doe</td>\n",
       "      <td>North</td>\n",
       "      <td>5000</td>\n",
       "      <td>12</td>\n",
       "      <td>2000</td>\n",
       "      <td>1.2</td>\n",
       "      <td>No</td>\n",
       "    </tr>\n",
       "    <tr>\n",
       "      <th>1</th>\n",
       "      <td>102</td>\n",
       "      <td>Jane Smith</td>\n",
       "      <td>South</td>\n",
       "      <td>3000</td>\n",
       "      <td>8</td>\n",
       "      <td>1500</td>\n",
       "      <td>1.1</td>\n",
       "      <td>Yes</td>\n",
       "    </tr>\n",
       "    <tr>\n",
       "      <th>2</th>\n",
       "      <td>103</td>\n",
       "      <td>Sam Brown</td>\n",
       "      <td>East</td>\n",
       "      <td>4500</td>\n",
       "      <td>10</td>\n",
       "      <td>1800</td>\n",
       "      <td>1.1</td>\n",
       "      <td>No</td>\n",
       "    </tr>\n",
       "    <tr>\n",
       "      <th>3</th>\n",
       "      <td>104</td>\n",
       "      <td>Linda Johnson</td>\n",
       "      <td>West</td>\n",
       "      <td>2500</td>\n",
       "      <td>5</td>\n",
       "      <td>1000</td>\n",
       "      <td>0.9</td>\n",
       "      <td>Yes</td>\n",
       "    </tr>\n",
       "    <tr>\n",
       "      <th>4</th>\n",
       "      <td>105</td>\n",
       "      <td>Michael Lee</td>\n",
       "      <td>North</td>\n",
       "      <td>7000</td>\n",
       "      <td>15</td>\n",
       "      <td>2500</td>\n",
       "      <td>1.3</td>\n",
       "      <td>No</td>\n",
       "    </tr>\n",
       "    <tr>\n",
       "      <th>5</th>\n",
       "      <td>106</td>\n",
       "      <td>Emily Davis</td>\n",
       "      <td>South</td>\n",
       "      <td>3200</td>\n",
       "      <td>7</td>\n",
       "      <td>1400</td>\n",
       "      <td>1.0</td>\n",
       "      <td>Yes</td>\n",
       "    </tr>\n",
       "    <tr>\n",
       "      <th>6</th>\n",
       "      <td>107</td>\n",
       "      <td>David Wilson</td>\n",
       "      <td>East</td>\n",
       "      <td>5300</td>\n",
       "      <td>14</td>\n",
       "      <td>2300</td>\n",
       "      <td>1.2</td>\n",
       "      <td>No</td>\n",
       "    </tr>\n",
       "    <tr>\n",
       "      <th>7</th>\n",
       "      <td>108</td>\n",
       "      <td>Susan White</td>\n",
       "      <td>West</td>\n",
       "      <td>2900</td>\n",
       "      <td>6</td>\n",
       "      <td>1100</td>\n",
       "      <td>0.8</td>\n",
       "      <td>Yes</td>\n",
       "    </tr>\n",
       "    <tr>\n",
       "      <th>8</th>\n",
       "      <td>109</td>\n",
       "      <td>Chris Martin</td>\n",
       "      <td>North</td>\n",
       "      <td>6000</td>\n",
       "      <td>13</td>\n",
       "      <td>2200</td>\n",
       "      <td>1.2</td>\n",
       "      <td>No</td>\n",
       "    </tr>\n",
       "    <tr>\n",
       "      <th>9</th>\n",
       "      <td>110</td>\n",
       "      <td>Anna Taylor</td>\n",
       "      <td>South</td>\n",
       "      <td>3100</td>\n",
       "      <td>8</td>\n",
       "      <td>1350</td>\n",
       "      <td>0.9</td>\n",
       "      <td>Yes</td>\n",
       "    </tr>\n",
       "    <tr>\n",
       "      <th>10</th>\n",
       "      <td>111</td>\n",
       "      <td>James Anderson</td>\n",
       "      <td>East</td>\n",
       "      <td>4700</td>\n",
       "      <td>11</td>\n",
       "      <td>1900</td>\n",
       "      <td>1.1</td>\n",
       "      <td>No</td>\n",
       "    </tr>\n",
       "    <tr>\n",
       "      <th>11</th>\n",
       "      <td>112</td>\n",
       "      <td>Patricia Thomas</td>\n",
       "      <td>West</td>\n",
       "      <td>2600</td>\n",
       "      <td>5</td>\n",
       "      <td>1050</td>\n",
       "      <td>0.8</td>\n",
       "      <td>Yes</td>\n",
       "    </tr>\n",
       "    <tr>\n",
       "      <th>12</th>\n",
       "      <td>113</td>\n",
       "      <td>Robert Jackson</td>\n",
       "      <td>North</td>\n",
       "      <td>5500</td>\n",
       "      <td>12</td>\n",
       "      <td>2100</td>\n",
       "      <td>1.2</td>\n",
       "      <td>No</td>\n",
       "    </tr>\n",
       "    <tr>\n",
       "      <th>13</th>\n",
       "      <td>114</td>\n",
       "      <td>Mary Harris</td>\n",
       "      <td>South</td>\n",
       "      <td>3300</td>\n",
       "      <td>9</td>\n",
       "      <td>1450</td>\n",
       "      <td>1.0</td>\n",
       "      <td>Yes</td>\n",
       "    </tr>\n",
       "    <tr>\n",
       "      <th>14</th>\n",
       "      <td>115</td>\n",
       "      <td>Daniel Clark</td>\n",
       "      <td>East</td>\n",
       "      <td>4900</td>\n",
       "      <td>11</td>\n",
       "      <td>2000</td>\n",
       "      <td>1.1</td>\n",
       "      <td>No</td>\n",
       "    </tr>\n",
       "    <tr>\n",
       "      <th>15</th>\n",
       "      <td>116</td>\n",
       "      <td>Barbara Lewis</td>\n",
       "      <td>West</td>\n",
       "      <td>2700</td>\n",
       "      <td>6</td>\n",
       "      <td>1150</td>\n",
       "      <td>0.9</td>\n",
       "      <td>Yes</td>\n",
       "    </tr>\n",
       "    <tr>\n",
       "      <th>16</th>\n",
       "      <td>117</td>\n",
       "      <td>Sarah Thompson</td>\n",
       "      <td>North</td>\n",
       "      <td>10</td>\n",
       "      <td>90</td>\n",
       "      <td>2100</td>\n",
       "      <td>1.2</td>\n",
       "      <td>Yes</td>\n",
       "    </tr>\n",
       "    <tr>\n",
       "      <th>17</th>\n",
       "      <td>118</td>\n",
       "      <td>Michael Rodriguez</td>\n",
       "      <td>South</td>\n",
       "      <td>3000</td>\n",
       "      <td>8</td>\n",
       "      <td>1350</td>\n",
       "      <td>0.9</td>\n",
       "      <td>Yes</td>\n",
       "    </tr>\n",
       "    <tr>\n",
       "      <th>18</th>\n",
       "      <td>119</td>\n",
       "      <td>Jordan Kim</td>\n",
       "      <td>East</td>\n",
       "      <td>3700</td>\n",
       "      <td>12</td>\n",
       "      <td>1700</td>\n",
       "      <td>1.1</td>\n",
       "      <td>No</td>\n",
       "    </tr>\n",
       "    <tr>\n",
       "      <th>19</th>\n",
       "      <td>120</td>\n",
       "      <td>Emily Tanaka</td>\n",
       "      <td>West</td>\n",
       "      <td>2800</td>\n",
       "      <td>6</td>\n",
       "      <td>1100</td>\n",
       "      <td>0.9</td>\n",
       "      <td>Yes</td>\n",
       "    </tr>\n",
       "    <tr>\n",
       "      <th>20</th>\n",
       "      <td>121</td>\n",
       "      <td>Jennifer Blake</td>\n",
       "      <td>North</td>\n",
       "      <td>50000</td>\n",
       "      <td>10</td>\n",
       "      <td>2150</td>\n",
       "      <td>1.1</td>\n",
       "      <td>No</td>\n",
       "    </tr>\n",
       "    <tr>\n",
       "      <th>21</th>\n",
       "      <td>122</td>\n",
       "      <td>Grace Okafor</td>\n",
       "      <td>South</td>\n",
       "      <td>3500</td>\n",
       "      <td>8</td>\n",
       "      <td>1500</td>\n",
       "      <td>1.0</td>\n",
       "      <td>Yes</td>\n",
       "    </tr>\n",
       "    <tr>\n",
       "      <th>22</th>\n",
       "      <td>123</td>\n",
       "      <td>David Lee</td>\n",
       "      <td>East</td>\n",
       "      <td>4100</td>\n",
       "      <td>12</td>\n",
       "      <td>2000</td>\n",
       "      <td>1.1</td>\n",
       "      <td>No</td>\n",
       "    </tr>\n",
       "    <tr>\n",
       "      <th>23</th>\n",
       "      <td>124</td>\n",
       "      <td>Ayesha Martinez</td>\n",
       "      <td>West</td>\n",
       "      <td>2900</td>\n",
       "      <td>7</td>\n",
       "      <td>1100</td>\n",
       "      <td>0.9</td>\n",
       "      <td>Yes</td>\n",
       "    </tr>\n",
       "  </tbody>\n",
       "</table>\n",
       "</div>"
      ],
      "text/plain": [
       "    Customer_ID      Customer_Name Region  Total_Spend  Purchase_Frequency  \\\n",
       "0           101           John Doe  North         5000                  12   \n",
       "1           102         Jane Smith  South         3000                   8   \n",
       "2           103          Sam Brown   East         4500                  10   \n",
       "3           104      Linda Johnson   West         2500                   5   \n",
       "4           105        Michael Lee  North         7000                  15   \n",
       "5           106        Emily Davis  South         3200                   7   \n",
       "6           107       David Wilson   East         5300                  14   \n",
       "7           108        Susan White   West         2900                   6   \n",
       "8           109       Chris Martin  North         6000                  13   \n",
       "9           110        Anna Taylor  South         3100                   8   \n",
       "10          111     James Anderson   East         4700                  11   \n",
       "11          112    Patricia Thomas   West         2600                   5   \n",
       "12          113     Robert Jackson  North         5500                  12   \n",
       "13          114        Mary Harris  South         3300                   9   \n",
       "14          115       Daniel Clark   East         4900                  11   \n",
       "15          116      Barbara Lewis   West         2700                   6   \n",
       "16          117     Sarah Thompson  North           10                  90   \n",
       "17          118  Michael Rodriguez  South         3000                   8   \n",
       "18          119         Jordan Kim   East         3700                  12   \n",
       "19          120       Emily Tanaka   West         2800                   6   \n",
       "20          121     Jennifer Blake  North        50000                  10   \n",
       "21          122       Grace Okafor  South         3500                   8   \n",
       "22          123          David Lee   East         4100                  12   \n",
       "23          124    Ayesha Martinez   West         2900                   7   \n",
       "\n",
       "    Marketing_Spend  Seasonality_Index Churned  \n",
       "0              2000                1.2      No  \n",
       "1              1500                1.1     Yes  \n",
       "2              1800                1.1      No  \n",
       "3              1000                0.9     Yes  \n",
       "4              2500                1.3      No  \n",
       "5              1400                1.0     Yes  \n",
       "6              2300                1.2      No  \n",
       "7              1100                0.8     Yes  \n",
       "8              2200                1.2      No  \n",
       "9              1350                0.9     Yes  \n",
       "10             1900                1.1      No  \n",
       "11             1050                0.8     Yes  \n",
       "12             2100                1.2      No  \n",
       "13             1450                1.0     Yes  \n",
       "14             2000                1.1      No  \n",
       "15             1150                0.9     Yes  \n",
       "16             2100                1.2     Yes  \n",
       "17             1350                0.9     Yes  \n",
       "18             1700                1.1      No  \n",
       "19             1100                0.9     Yes  \n",
       "20             2150                1.1      No  \n",
       "21             1500                1.0     Yes  \n",
       "22             2000                1.1      No  \n",
       "23             1100                0.9     Yes  "
      ]
     },
     "execution_count": 15,
     "metadata": {},
     "output_type": "execute_result"
    }
   ],
   "source": [
    "raw_sales_data"
   ]
  },
  {
   "cell_type": "code",
   "execution_count": 16,
   "id": "053238b8",
   "metadata": {},
   "outputs": [],
   "source": [
    "#raw_sales_data.to_csv(r'C:\\Users\\saman\\workspace\\data_analysis_internship\\Project_3\\doc\\data\\cleaned_sales_data_week_3.csv', index=False)"
   ]
  },
  {
   "cell_type": "code",
   "execution_count": 17,
   "id": "2a6d2849",
   "metadata": {},
   "outputs": [],
   "source": [
    "# Select relevant columns for sales data\n",
    "\n",
    "sales_data = raw_sales_data.iloc[:, 3:7] "
   ]
  },
  {
   "cell_type": "code",
   "execution_count": 18,
   "id": "333017e6",
   "metadata": {},
   "outputs": [
    {
     "data": {
      "text/html": [
       "<div>\n",
       "<style scoped>\n",
       "    .dataframe tbody tr th:only-of-type {\n",
       "        vertical-align: middle;\n",
       "    }\n",
       "\n",
       "    .dataframe tbody tr th {\n",
       "        vertical-align: top;\n",
       "    }\n",
       "\n",
       "    .dataframe thead th {\n",
       "        text-align: right;\n",
       "    }\n",
       "</style>\n",
       "<table border=\"1\" class=\"dataframe\">\n",
       "  <thead>\n",
       "    <tr style=\"text-align: right;\">\n",
       "      <th></th>\n",
       "      <th>Total_Spend</th>\n",
       "      <th>Purchase_Frequency</th>\n",
       "      <th>Marketing_Spend</th>\n",
       "      <th>Seasonality_Index</th>\n",
       "    </tr>\n",
       "  </thead>\n",
       "  <tbody>\n",
       "    <tr>\n",
       "      <th>0</th>\n",
       "      <td>5000</td>\n",
       "      <td>12</td>\n",
       "      <td>2000</td>\n",
       "      <td>1.2</td>\n",
       "    </tr>\n",
       "    <tr>\n",
       "      <th>1</th>\n",
       "      <td>3000</td>\n",
       "      <td>8</td>\n",
       "      <td>1500</td>\n",
       "      <td>1.1</td>\n",
       "    </tr>\n",
       "    <tr>\n",
       "      <th>2</th>\n",
       "      <td>4500</td>\n",
       "      <td>10</td>\n",
       "      <td>1800</td>\n",
       "      <td>1.1</td>\n",
       "    </tr>\n",
       "    <tr>\n",
       "      <th>3</th>\n",
       "      <td>2500</td>\n",
       "      <td>5</td>\n",
       "      <td>1000</td>\n",
       "      <td>0.9</td>\n",
       "    </tr>\n",
       "    <tr>\n",
       "      <th>4</th>\n",
       "      <td>7000</td>\n",
       "      <td>15</td>\n",
       "      <td>2500</td>\n",
       "      <td>1.3</td>\n",
       "    </tr>\n",
       "    <tr>\n",
       "      <th>5</th>\n",
       "      <td>3200</td>\n",
       "      <td>7</td>\n",
       "      <td>1400</td>\n",
       "      <td>1.0</td>\n",
       "    </tr>\n",
       "    <tr>\n",
       "      <th>6</th>\n",
       "      <td>5300</td>\n",
       "      <td>14</td>\n",
       "      <td>2300</td>\n",
       "      <td>1.2</td>\n",
       "    </tr>\n",
       "    <tr>\n",
       "      <th>7</th>\n",
       "      <td>2900</td>\n",
       "      <td>6</td>\n",
       "      <td>1100</td>\n",
       "      <td>0.8</td>\n",
       "    </tr>\n",
       "    <tr>\n",
       "      <th>8</th>\n",
       "      <td>6000</td>\n",
       "      <td>13</td>\n",
       "      <td>2200</td>\n",
       "      <td>1.2</td>\n",
       "    </tr>\n",
       "    <tr>\n",
       "      <th>9</th>\n",
       "      <td>3100</td>\n",
       "      <td>8</td>\n",
       "      <td>1350</td>\n",
       "      <td>0.9</td>\n",
       "    </tr>\n",
       "    <tr>\n",
       "      <th>10</th>\n",
       "      <td>4700</td>\n",
       "      <td>11</td>\n",
       "      <td>1900</td>\n",
       "      <td>1.1</td>\n",
       "    </tr>\n",
       "    <tr>\n",
       "      <th>11</th>\n",
       "      <td>2600</td>\n",
       "      <td>5</td>\n",
       "      <td>1050</td>\n",
       "      <td>0.8</td>\n",
       "    </tr>\n",
       "    <tr>\n",
       "      <th>12</th>\n",
       "      <td>5500</td>\n",
       "      <td>12</td>\n",
       "      <td>2100</td>\n",
       "      <td>1.2</td>\n",
       "    </tr>\n",
       "    <tr>\n",
       "      <th>13</th>\n",
       "      <td>3300</td>\n",
       "      <td>9</td>\n",
       "      <td>1450</td>\n",
       "      <td>1.0</td>\n",
       "    </tr>\n",
       "    <tr>\n",
       "      <th>14</th>\n",
       "      <td>4900</td>\n",
       "      <td>11</td>\n",
       "      <td>2000</td>\n",
       "      <td>1.1</td>\n",
       "    </tr>\n",
       "    <tr>\n",
       "      <th>15</th>\n",
       "      <td>2700</td>\n",
       "      <td>6</td>\n",
       "      <td>1150</td>\n",
       "      <td>0.9</td>\n",
       "    </tr>\n",
       "    <tr>\n",
       "      <th>16</th>\n",
       "      <td>10</td>\n",
       "      <td>90</td>\n",
       "      <td>2100</td>\n",
       "      <td>1.2</td>\n",
       "    </tr>\n",
       "    <tr>\n",
       "      <th>17</th>\n",
       "      <td>3000</td>\n",
       "      <td>8</td>\n",
       "      <td>1350</td>\n",
       "      <td>0.9</td>\n",
       "    </tr>\n",
       "    <tr>\n",
       "      <th>18</th>\n",
       "      <td>3700</td>\n",
       "      <td>12</td>\n",
       "      <td>1700</td>\n",
       "      <td>1.1</td>\n",
       "    </tr>\n",
       "    <tr>\n",
       "      <th>19</th>\n",
       "      <td>2800</td>\n",
       "      <td>6</td>\n",
       "      <td>1100</td>\n",
       "      <td>0.9</td>\n",
       "    </tr>\n",
       "    <tr>\n",
       "      <th>20</th>\n",
       "      <td>50000</td>\n",
       "      <td>10</td>\n",
       "      <td>2150</td>\n",
       "      <td>1.1</td>\n",
       "    </tr>\n",
       "    <tr>\n",
       "      <th>21</th>\n",
       "      <td>3500</td>\n",
       "      <td>8</td>\n",
       "      <td>1500</td>\n",
       "      <td>1.0</td>\n",
       "    </tr>\n",
       "    <tr>\n",
       "      <th>22</th>\n",
       "      <td>4100</td>\n",
       "      <td>12</td>\n",
       "      <td>2000</td>\n",
       "      <td>1.1</td>\n",
       "    </tr>\n",
       "    <tr>\n",
       "      <th>23</th>\n",
       "      <td>2900</td>\n",
       "      <td>7</td>\n",
       "      <td>1100</td>\n",
       "      <td>0.9</td>\n",
       "    </tr>\n",
       "  </tbody>\n",
       "</table>\n",
       "</div>"
      ],
      "text/plain": [
       "    Total_Spend  Purchase_Frequency  Marketing_Spend  Seasonality_Index\n",
       "0          5000                  12             2000                1.2\n",
       "1          3000                   8             1500                1.1\n",
       "2          4500                  10             1800                1.1\n",
       "3          2500                   5             1000                0.9\n",
       "4          7000                  15             2500                1.3\n",
       "5          3200                   7             1400                1.0\n",
       "6          5300                  14             2300                1.2\n",
       "7          2900                   6             1100                0.8\n",
       "8          6000                  13             2200                1.2\n",
       "9          3100                   8             1350                0.9\n",
       "10         4700                  11             1900                1.1\n",
       "11         2600                   5             1050                0.8\n",
       "12         5500                  12             2100                1.2\n",
       "13         3300                   9             1450                1.0\n",
       "14         4900                  11             2000                1.1\n",
       "15         2700                   6             1150                0.9\n",
       "16           10                  90             2100                1.2\n",
       "17         3000                   8             1350                0.9\n",
       "18         3700                  12             1700                1.1\n",
       "19         2800                   6             1100                0.9\n",
       "20        50000                  10             2150                1.1\n",
       "21         3500                   8             1500                1.0\n",
       "22         4100                  12             2000                1.1\n",
       "23         2900                   7             1100                0.9"
      ]
     },
     "execution_count": 18,
     "metadata": {},
     "output_type": "execute_result"
    }
   ],
   "source": [
    "sales_data"
   ]
  },
  {
   "cell_type": "code",
   "execution_count": 19,
   "id": "0b2b3c0a",
   "metadata": {},
   "outputs": [
    {
     "data": {
      "image/png": "[encoded data removed]",
      "text/plain": [
       "<Figure size 700x600 with 2 Axes>"
      ]
     },
     "metadata": {},
     "output_type": "display_data"
    }
   ],
   "source": [
    "# Calculate the correlation matrix\n",
    "corr = sales_data.corr()\n",
    "\n",
    "# Mask the upper triangle to avoid redundancy\n",
    "mask = np.triu(np.ones_like(corr, dtype=bool))\n",
    "\n",
    "plt.figure(figsize=(7, 6))\n",
    "sns.heatmap(corr, mask=mask, annot=True, fmt='.2f', cmap='plasma', cbar=True, annot_kws={\"size\": 9}, vmin=-1, vmax=1)\n",
    "\n",
    "plt.title('Correlation Matrix', fontsize=20)\n",
    "plt.xticks(rotation=90, fontsize=10)\n",
    "plt.yticks(fontsize=10)\n",
    "plt.tight_layout()\n",
    "plt.show()"
   ]
  },
  {
   "cell_type": "markdown",
   "id": "abc26f67",
   "metadata": {},
   "source": [
    "It shows strong correlation between marketing spend and seasonality index [0.94]. Strong multicollinearity can confuse linear models (they struggle to differentiate the impact of highly correlated features)"
   ]
  },
  {
   "cell_type": "code",
   "execution_count": 20,
   "id": "7e67228e",
   "metadata": {},
   "outputs": [
    {
     "data": {
      "text/html": [
       "<div>\n",
       "<style scoped>\n",
       "    .dataframe tbody tr th:only-of-type {\n",
       "        vertical-align: middle;\n",
       "    }\n",
       "\n",
       "    .dataframe tbody tr th {\n",
       "        vertical-align: top;\n",
       "    }\n",
       "\n",
       "    .dataframe thead th {\n",
       "        text-align: right;\n",
       "    }\n",
       "</style>\n",
       "<table border=\"1\" class=\"dataframe\">\n",
       "  <thead>\n",
       "    <tr style=\"text-align: right;\">\n",
       "      <th></th>\n",
       "      <th>Total_Spend</th>\n",
       "      <th>Purchase_Frequency</th>\n",
       "      <th>Marketing_Spend</th>\n",
       "      <th>Seasonality_Index</th>\n",
       "    </tr>\n",
       "  </thead>\n",
       "  <tbody>\n",
       "    <tr>\n",
       "      <th>0</th>\n",
       "      <td>-0.072238</td>\n",
       "      <td>-0.043292</td>\n",
       "      <td>0.762140</td>\n",
       "      <td>1.145743</td>\n",
       "    </tr>\n",
       "    <tr>\n",
       "      <th>1</th>\n",
       "      <td>-0.286144</td>\n",
       "      <td>-0.287765</td>\n",
       "      <td>-0.353187</td>\n",
       "      <td>0.422116</td>\n",
       "    </tr>\n",
       "    <tr>\n",
       "      <th>2</th>\n",
       "      <td>-0.125714</td>\n",
       "      <td>-0.165528</td>\n",
       "      <td>0.316009</td>\n",
       "      <td>0.422116</td>\n",
       "    </tr>\n",
       "    <tr>\n",
       "      <th>3</th>\n",
       "      <td>-0.339621</td>\n",
       "      <td>-0.471119</td>\n",
       "      <td>-1.468513</td>\n",
       "      <td>-1.025139</td>\n",
       "    </tr>\n",
       "    <tr>\n",
       "      <th>4</th>\n",
       "      <td>0.141668</td>\n",
       "      <td>0.140063</td>\n",
       "      <td>1.877466</td>\n",
       "      <td>1.869370</td>\n",
       "    </tr>\n",
       "  </tbody>\n",
       "</table>\n",
       "</div>"
      ],
      "text/plain": [
       "   Total_Spend  Purchase_Frequency  Marketing_Spend  Seasonality_Index\n",
       "0    -0.072238           -0.043292         0.762140           1.145743\n",
       "1    -0.286144           -0.287765        -0.353187           0.422116\n",
       "2    -0.125714           -0.165528         0.316009           0.422116\n",
       "3    -0.339621           -0.471119        -1.468513          -1.025139\n",
       "4     0.141668            0.140063         1.877466           1.869370"
      ]
     },
     "execution_count": 20,
     "metadata": {},
     "output_type": "execute_result"
    }
   ],
   "source": [
    "# Calculate Z-scores for each column to identify outliers\n",
    "\n",
    "z_score_columns = sales_data.columns\n",
    "z_scores = sales_data[z_score_columns].apply(zscore)\n",
    "\n",
    "z_scores.head()"
   ]
  },
  {
   "cell_type": "code",
   "execution_count": 21,
   "id": "d2808c1f",
   "metadata": {},
   "outputs": [
    {
     "name": "stdout",
     "output_type": "stream",
     "text": [
      "Original rows: 24, After removing outliers: 22\n"
     ]
    }
   ],
   "source": [
    "# Filter out rows with any Z-score > 3 or < -3 in any column\n",
    "filtered_data = sales_data[(z_scores.abs() < 3).all(axis=1)]\n",
    "\n",
    "print(f\"Original rows: {sales_data.shape[0]}, After removing outliers: {filtered_data.shape[0]}\")"
   ]
  },
  {
   "cell_type": "code",
   "execution_count": 22,
   "id": "5ac5b012",
   "metadata": {},
   "outputs": [
    {
     "data": {
      "image/png": "[encoded data removed]",
      "text/plain": [
       "<Figure size 1500x600 with 2 Axes>"
      ]
     },
     "metadata": {},
     "output_type": "display_data"
    },
    {
     "name": "stdout",
     "output_type": "stream",
     "text": [
      "Rows before cleaning: 24\n",
      "Rows after cleaning: 22\n"
     ]
    }
   ],
   "source": [
    "# Plot before and after boxplots side by side\n",
    "fig, axes = plt.subplots(1, 2, figsize=(15, 6))\n",
    "\n",
    "# Before cleaning\n",
    "sns.boxplot(data=sales_data, ax=axes[0])\n",
    "axes[0].set_title('Before Outlier Removal (Original Data)')\n",
    "\n",
    "# After cleaning\n",
    "sns.boxplot(data=filtered_data, ax=axes[1])\n",
    "axes[1].set_title('After Outlier Removal (Z-score Filtered)')\n",
    "\n",
    "plt.tight_layout()\n",
    "plt.show()\n",
    "\n",
    "print(f\"Rows before cleaning: {sales_data.shape[0]}\")\n",
    "print(f\"Rows after cleaning: {filtered_data.shape[0]}\")"
   ]
  },
  {
   "cell_type": "code",
   "execution_count": 23,
   "id": "fc90e236",
   "metadata": {},
   "outputs": [
    {
     "name": "stdout",
     "output_type": "stream",
     "text": [
      "Churned\n",
      "Yes    13\n",
      "No     11\n",
      "Name: count, dtype: int64\n"
     ]
    }
   ],
   "source": [
    "# checking class imbalance\n",
    "print(raw_sales_data['Churned'].value_counts())"
   ]
  },
  {
   "cell_type": "code",
   "execution_count": 24,
   "id": "e8af5ebe",
   "metadata": {},
   "outputs": [
    {
     "data": {
      "image/png": "[encoded data removed]",
      "text/plain": [
       "<Figure size 800x500 with 1 Axes>"
      ]
     },
     "metadata": {},
     "output_type": "display_data"
    }
   ],
   "source": [
    "plt.figure(figsize=(8, 5))\n",
    "sns.countplot(x='Churned', data=raw_sales_data, hue= raw_sales_data.Churned, palette='Set2')\n",
    "plt.title('Churned Distribution')   \n",
    "plt.xlabel('Churned')\n",
    "plt.ylabel('Count')\n",
    "plt.xticks(rotation=0)\n",
    "plt.tight_layout()\n",
    "plt.show()"
   ]
  },
  {
   "cell_type": "markdown",
   "id": "6f05d4d8",
   "metadata": {},
   "source": [
    "# 2. Predictive Modeling for Sales Forecasting\n",
    "\n",
    "## Linear Regression"
   ]
  },
  {
   "cell_type": "code",
   "execution_count": 25,
   "id": "55823f10",
   "metadata": {},
   "outputs": [],
   "source": [
    "# Prepare features and target\n",
    "X = filtered_data[['Marketing_Spend', 'Seasonality_Index']]\n",
    "y = filtered_data['Total_Spend']\n",
    "\n",
    "# Split data\n",
    "X_train, X_test, y_train, y_test = train_test_split(X, y, test_size=0.2, random_state=42)"
   ]
  },
  {
   "cell_type": "code",
   "execution_count": 26,
   "id": "f40b9bbe",
   "metadata": {},
   "outputs": [],
   "source": [
    "# Used StandardScaler to scale the features\n",
    "scaler = StandardScaler()\n",
    "X_train_scaled = scaler.fit_transform(X_train)\n",
    "X_test_scaled = scaler.transform(X_test)"
   ]
  },
  {
   "cell_type": "code",
   "execution_count": 27,
   "id": "eeaec9c7",
   "metadata": {},
   "outputs": [
    {
     "name": "stdout",
     "output_type": "stream",
     "text": [
      "RMSE: 21.69\n",
      "R^2 Score: 0.86\n",
      "Regression Co-efficients: [924.44038178 249.20229739] 3894.1176470588234\n"
     ]
    }
   ],
   "source": [
    "# Linear Regression Model\n",
    "lr = LinearRegression()\n",
    "lr.fit(X_train_scaled, y_train)\n",
    "\n",
    "# Predict\n",
    "y_pred = lr.predict(X_test_scaled)\n",
    "\n",
    "# Evaluate\n",
    "rmse = np.sqrt(root_mean_squared_error(y_test, y_pred))\n",
    "print(f\"RMSE: {rmse:.2f}\")\n",
    "print(f\"R^2 Score: {r2_score(y_test, y_pred):.2f}\")\n",
    "\n",
    "print(f\"Regression Co-efficients:\", lr.coef_, lr.intercept_)"
   ]
  },
  {
   "cell_type": "markdown",
   "id": "1cc8d3e0",
   "metadata": {},
   "source": [
    "RMSE – Root Mean Squared Error : how far your model’s predictions are from the actual value\n",
    "R² – Coefficient of Determination : explains how much of the variance in your target variable is explained by the model. It ranges from -∞ to 1."
   ]
  },
  {
   "cell_type": "markdown",
   "id": "df1befe7",
   "metadata": {},
   "source": [
    "R² = 0.86 means 86% of the variance in Total_Spend is explained by Marketing_Spend and Seasonality_Index, which is quite strong.\n",
    "\n",
    "RMSE = 21.69 indicates your average prediction error is relatively low \n",
    "\n",
    "regression co-efficients: These values represent slope — they show which feature has more impact on Total_Spend. In this case, Marketing_Spend has a much stronger effect than Seasonality_Index.\n",
    "\n",
    "lr.intercept_: 3894.12\n",
    "This is the predicted Total_Spend when both inputs are zero (in standardized units, meaning average values)."
   ]
  },
  {
   "cell_type": "markdown",
   "id": "c73e2e50",
   "metadata": {},
   "source": [
    "## Logistic Regression "
   ]
  },
  {
   "cell_type": "code",
   "execution_count": 28,
   "id": "fd1f41a5",
   "metadata": {},
   "outputs": [
    {
     "name": "stdout",
     "output_type": "stream",
     "text": [
      "Accuracy: 0.80\n",
      "Confusion Matrix:\n",
      " [[3 0]\n",
      " [1 1]]\n",
      "Classification Report:\n",
      "               precision    recall  f1-score   support\n",
      "\n",
      "           0       0.75      1.00      0.86         3\n",
      "           1       1.00      0.50      0.67         2\n",
      "\n",
      "    accuracy                           0.80         5\n",
      "   macro avg       0.88      0.75      0.76         5\n",
      "weighted avg       0.85      0.80      0.78         5\n",
      "\n"
     ]
    }
   ],
   "source": [
    "# Encode target variable\n",
    "le = LabelEncoder()\n",
    "raw_sales_data['Churned'] = le.fit_transform(raw_sales_data['Churned'])  # 'Yes'=1, 'No'=0\n",
    "\n",
    "# Features and target\n",
    "features = ['Marketing_Spend', 'Seasonality_Index', 'Purchase_Frequency']\n",
    "X = raw_sales_data[features]\n",
    "y = raw_sales_data['Churned']\n",
    "\n",
    "# Train/test split\n",
    "X_train, X_test, y_train, y_test = train_test_split(\n",
    "    X, y, test_size=0.2, random_state=42\n",
    ")\n",
    "\n",
    "# Scale features\n",
    "scaler = StandardScaler()\n",
    "X_train_scaled = scaler.fit_transform(X_train)\n",
    "X_test_scaled = scaler.transform(X_test)\n",
    "\n",
    "# Logistic Regression\n",
    "logreg = LogisticRegression()\n",
    "logreg.fit(X_train_scaled, y_train)\n",
    "\n",
    "# Predictions\n",
    "y_pred = logreg.predict(X_test_scaled)\n",
    "\n",
    "# Evaluation\n",
    "print(f\"Accuracy: {accuracy_score(y_test, y_pred):.2f}\")\n",
    "print(\"Confusion Matrix:\\n\", confusion_matrix(y_test, y_pred))\n",
    "print(\"Classification Report:\\n\", classification_report(y_test, y_pred))"
   ]
  },
  {
   "cell_type": "code",
   "execution_count": 29,
   "id": "67acd9c9",
   "metadata": {},
   "outputs": [
    {
     "name": "stdout",
     "output_type": "stream",
     "text": [
      "Cross-validated accuracy: 0.96 ± 0.08\n"
     ]
    }
   ],
   "source": [
    "scores = cross_val_score(logreg, X, y, cv=5, scoring='accuracy')\n",
    "print(f\"Cross-validated accuracy: {scores.mean():.2f} ± {scores.std():.2f}\")\n"
   ]
  },
  {
   "cell_type": "markdown",
   "id": "44b0ff45",
   "metadata": {},
   "source": [
    "The result is too perfect for a small test data. Mean Accuracy = 0.96 means that the model precisely classifies 96% predicting churn. Standard Deviation = 0.08. A standard deviation of 0.08 indicates moderate variability across the 5 cross-validation folds."
   ]
  },
  {
   "cell_type": "markdown",
   "id": "91cd4e50",
   "metadata": {},
   "source": [
    "# 3. Statistical Analysis for Business Insights"
   ]
  },
  {
   "cell_type": "markdown",
   "id": "b3a0ea91",
   "metadata": {},
   "source": [
    "Hypotheses:\n",
    "\n",
    "H₀ (Null Hypothesis): All regions have the same average Total Spend.\n",
    "\n",
    "H₁ (Alternative Hypothesis): At least one region's average Total Spend is different."
   ]
  },
  {
   "cell_type": "code",
   "execution_count": 30,
   "id": "96fc4d6d",
   "metadata": {},
   "outputs": [
    {
     "name": "stdout",
     "output_type": "stream",
     "text": [
      "F-statistic: 1.36, p-value: 0.2822\n",
      "No significant differences in Total Spend across regions.\n"
     ]
    }
   ],
   "source": [
    "# Anova test to perform sales analysis over different regions\n",
    "\n",
    "region_1 = raw_sales_data[raw_sales_data['Region'] == 'North']['Total_Spend']\n",
    "region_2 = raw_sales_data[raw_sales_data['Region'] == 'South']['Total_Spend']\n",
    "region_3 = raw_sales_data[raw_sales_data['Region'] == 'East']['Total_Spend']\n",
    "region_4 = raw_sales_data[raw_sales_data['Region'] == 'West']['Total_Spend']\n",
    "f_statistic, p_value = f_oneway(region_1, region_2, region_3, region_4)\n",
    "print(f\"F-statistic: {f_statistic:.2f}, p-value: {p_value:.4f}\")\n",
    "if p_value < 0.05:\n",
    "    print(\"There are significant differences in Total Spend across regions.\")\n",
    "else:\n",
    "    print(\"No significant differences in Total Spend across regions.\")"
   ]
  },
  {
   "cell_type": "markdown",
   "id": "9cad949c",
   "metadata": {},
   "source": [
    "F-statistic tells you how much the group means vary compared to within-group variation.\n",
    "\n",
    "p-value > 0.05 → Can not Reject H₀ → There is no significant difference in sales across regions."
   ]
  },
  {
   "cell_type": "markdown",
   "id": "8f8c6719",
   "metadata": {},
   "source": [
    "## Hypothesis Testing: Impact of Promotions on Sales\n",
    "\n",
    "\n",
    "### Method: Independent two-sample t-test comparing Total_Spend between:\n",
    "\n",
    "Customers with promotions (above-median Marketing Spend)\n",
    "\n",
    "Customers without promotions (at or below-median Marketing Spend)"
   ]
  },
  {
   "cell_type": "markdown",
   "id": "9ba152cc",
   "metadata": {},
   "source": [
    "H₀: Promotions do not affect Total Spend\n",
    "\n",
    "H₁: Promotions increase Total Spend"
   ]
  },
  {
   "cell_type": "code",
   "execution_count": 31,
   "id": "a807875c",
   "metadata": {},
   "outputs": [
    {
     "name": "stdout",
     "output_type": "stream",
     "text": [
      "T-statistic: 1.42\n",
      "P-value: 0.1683\n",
      "No significant impact of promotions on total spend. Null hypothesis cannot be rejected.\n"
     ]
    }
   ],
   "source": [
    "# Split based on Marketing Spend (above vs below/equal to median)\n",
    "median_spend = raw_sales_data['Marketing_Spend'].median()\n",
    "promo_group = raw_sales_data[raw_sales_data['Marketing_Spend'] > median_spend]['Total_Spend']\n",
    "non_promo_group = raw_sales_data[raw_sales_data['Marketing_Spend'] <= median_spend]['Total_Spend']\n",
    "\n",
    "# T-test\n",
    "t_stat, p_val = ttest_ind(promo_group, non_promo_group)\n",
    "\n",
    "print(f\"T-statistic: {t_stat:.2f}\")\n",
    "print(f\"P-value: {p_val:.4f}\")\n",
    "if p_val < 0.05:\n",
    "    print(\"Promotions significantly affect total spend.\")\n",
    "else:\n",
    "    print(\"No significant impact of promotions on total spend. Null hypothesis cannot be rejected.\")"
   ]
  },
  {
   "cell_type": "code",
   "execution_count": 32,
   "id": "8be1c681",
   "metadata": {},
   "outputs": [
    {
     "name": "stdout",
     "output_type": "stream",
     "text": [
      "                    Factor 1  Factor 2\n",
      "Marketing_Spend     0.979220  0.075771\n",
      "Seasonality_Index   0.971270 -0.112767\n",
      "Purchase_Frequency  0.382622 -0.242427\n",
      "Total_Spend         0.269931  0.745815\n"
     ]
    }
   ],
   "source": [
    "# Factor Analysis:\n",
    "\n",
    "# Choose relevant features\n",
    "features = ['Marketing_Spend', 'Seasonality_Index', 'Purchase_Frequency', 'Total_Spend']\n",
    "X = raw_sales_data[features]\n",
    "\n",
    "# Standardize\n",
    "scaler = StandardScaler()\n",
    "X_scaled = scaler.fit_transform(X)\n",
    "\n",
    "# Apply Factor Analysis\n",
    "fa = FactorAnalysis(n_components=2, random_state=42)\n",
    "X_factors = fa.fit_transform(X_scaled)\n",
    "\n",
    "# Check loadings\n",
    "factor_loadings = pd.DataFrame(fa.components_.T, columns=['Factor 1', 'Factor 2'], index=features)\n",
    "print(factor_loadings)\n"
   ]
  },
  {
   "cell_type": "code",
   "execution_count": 33,
   "id": "8a3913e6",
   "metadata": {},
   "outputs": [
    {
     "data": {
      "image/png": "[encoded data removed]",
      "text/plain": [
       "<Figure size 800x600 with 2 Axes>"
      ]
     },
     "metadata": {},
     "output_type": "display_data"
    }
   ],
   "source": [
    "# visualize loadings\n",
    "plt.figure(figsize=(8, 6))\n",
    "sns.heatmap(factor_loadings, annot=True, cmap='coolwarm', center=0)\n",
    "plt.title(\"Factor Loadings Heatmap\")\n",
    "plt.tight_layout()\n",
    "plt.show()"
   ]
  },
  {
   "cell_type": "markdown",
   "id": "26ddbf46",
   "metadata": {},
   "source": [
    "Marketing_Spend and Seasonality_Index have high loadings on Factor1 → Factor1 represents \"Marketing Influence\".\n",
    "\n",
    "\n",
    "Total_Spend have high loading on Factor2 which represents total customer spending power possibly influenced by marketing."
   ]
  },
  {
   "cell_type": "markdown",
   "id": "facfd2ce",
   "metadata": {},
   "source": [
    "# Machine Learning for Customer Segmentation"
   ]
  },
  {
   "cell_type": "markdown",
   "id": "31f1b8de",
   "metadata": {},
   "source": [
    "1. Decision Tree: Customer Segmentation by Purchasing Behavior"
   ]
  },
  {
   "cell_type": "code",
   "execution_count": 34,
   "id": "7741ccaf",
   "metadata": {},
   "outputs": [
    {
     "data": {
      "image/png": "[encoded data removed]",
      "text/plain": [
       "<Figure size 1600x800 with 1 Axes>"
      ]
     },
     "metadata": {},
     "output_type": "display_data"
    }
   ],
   "source": [
    "# Define spending category\n",
    "raw_sales_data['Spending_Category'] = pd.qcut(raw_sales_data['Total_Spend'], q=3, labels=['Low', 'Medium', 'High'])\n",
    "\n",
    "# Features and target\n",
    "features = ['Marketing_Spend', 'Seasonality_Index', 'Purchase_Frequency']\n",
    "X = raw_sales_data[features]\n",
    "y = raw_sales_data['Spending_Category']\n",
    "\n",
    "# Train Decision Tree\n",
    "dtree = DecisionTreeClassifier(max_depth=3, random_state=42)\n",
    "dtree.fit(X, y)\n",
    "\n",
    "# Visualize\n",
    "plt.figure(figsize=(16, 8))\n",
    "plot_tree(dtree, feature_names=features, class_names=dtree.classes_, filled=True)\n",
    "plt.title(\"Decision Tree: Spending Category Segmentation\")\n",
    "plt.show()\n"
   ]
  },
  {
   "cell_type": "markdown",
   "id": "297ebdd3",
   "metadata": {},
   "source": [
    "2. K-Means Clustering: Group Customers by Spending Behavior"
   ]
  },
  {
   "cell_type": "code",
   "execution_count": 35,
   "id": "3387d973",
   "metadata": {},
   "outputs": [
    {
     "data": {
      "image/png": "[encoded data removed]",
      "text/plain": [
       "<Figure size 800x600 with 1 Axes>"
      ]
     },
     "metadata": {},
     "output_type": "display_data"
    }
   ],
   "source": [
    "# K-Means clustering (3 groups)\n",
    "kmeans = KMeans(n_clusters=3, random_state=42)\n",
    "raw_sales_data['Customer_Segment'] = kmeans.fit_predict(raw_sales_data[['Total_Spend', 'Purchase_Frequency']])\n",
    "\n",
    "# Visualize clusters\n",
    "plt.figure(figsize=(8, 6))\n",
    "sns.scatterplot(data=raw_sales_data, x='Total_Spend', y='Purchase_Frequency', hue='Customer_Segment', palette='Set1')\n",
    "plt.title('K-Means Customer Segmentation')\n",
    "plt.xlabel('Total Spend')\n",
    "plt.ylabel('Purchase Frequency')\n",
    "plt.show()\n"
   ]
  },
  {
   "cell_type": "markdown",
   "id": "2153045d",
   "metadata": {},
   "source": [
    "3. Ensemble Learning: Random Forest & XGBoost"
   ]
  },
  {
   "cell_type": "code",
   "execution_count": 41,
   "id": "385f5558",
   "metadata": {},
   "outputs": [
    {
     "name": "stdout",
     "output_type": "stream",
     "text": [
      "Random Forest Accuracy: 1.0\n",
      "Classification Report:\n",
      "               precision    recall  f1-score   support\n",
      "\n",
      "           0       1.00      1.00      1.00         3\n",
      "           1       1.00      1.00      1.00         3\n",
      "\n",
      "    accuracy                           1.00         6\n",
      "   macro avg       1.00      1.00      1.00         6\n",
      "weighted avg       1.00      1.00      1.00         6\n",
      "\n"
     ]
    }
   ],
   "source": [
    "# Random Forest\n",
    "\n",
    "# Prepare features/target\n",
    "features = ['Marketing_Spend', 'Seasonality_Index', 'Purchase_Frequency']\n",
    "X = raw_sales_data[features]\n",
    "y = raw_sales_data['Churned']  # 0/1 encoded\n",
    "\n",
    "# Split\n",
    "X_train, X_test, y_train, y_test = train_test_split(X, y, stratify=y, random_state=42)\n",
    "\n",
    "# Train Random Forest\n",
    "rf = RandomForestClassifier(n_estimators=100, random_state=42)\n",
    "rf.fit(X_train, y_train)\n",
    "\n",
    "# Predict & Evaluate\n",
    "y_pred_rf = rf.predict(X_test)\n",
    "print(\"Random Forest Accuracy:\", accuracy_score(y_test, y_pred_rf))\n",
    "print(\"Classification Report:\\n\", classification_report(y_test, y_pred_rf))\n"
   ]
  },
  {
   "cell_type": "code",
   "execution_count": 40,
   "id": "e3772e80",
   "metadata": {},
   "outputs": [
    {
     "name": "stdout",
     "output_type": "stream",
     "text": [
      "XGBoost Accuracy: 1.0\n",
      "Classification Report:\n",
      "               precision    recall  f1-score   support\n",
      "\n",
      "           0       1.00      1.00      1.00         3\n",
      "           1       1.00      1.00      1.00         3\n",
      "\n",
      "    accuracy                           1.00         6\n",
      "   macro avg       1.00      1.00      1.00         6\n",
      "weighted avg       1.00      1.00      1.00         6\n",
      "\n"
     ]
    },
    {
     "name": "stderr",
     "output_type": "stream",
     "text": [
      "c:\\Users\\saman\\workspace\\data_analysis_internship\\.venv\\Lib\\site-packages\\xgboost\\training.py:183: UserWarning: [00:51:48] WARNING: C:\\actions-runner\\_work\\xgboost\\xgboost\\src\\learner.cc:738: \n",
      "Parameters: { \"use_label_encoder\" } are not used.\n",
      "\n",
      "  bst.update(dtrain, iteration=i, fobj=obj)\n"
     ]
    }
   ],
   "source": [
    "# Train XGBoost\n",
    "xgb = XGBClassifier(use_label_encoder=False, eval_metric='logloss', random_state=42)\n",
    "xgb.fit(X_train, y_train)\n",
    "\n",
    "# Predict & Evaluate\n",
    "y_pred_xgb = xgb.predict(X_test)\n",
    "print(\"XGBoost Accuracy:\", accuracy_score(y_test, y_pred_xgb))\n",
    "print(\"Classification Report:\\n\", classification_report(y_test, y_pred_xgb))\n"
   ]
  }
 ],
 "metadata": {
  "kernelspec": {
   "display_name": ".venv",
   "language": "python",
   "name": "python3"
  },
  "language_info": {
   "codemirror_mode": {
    "name": "ipython",
    "version": 3
   },
   "file_extension": ".py",
   "mimetype": "text/x-python",
   "name": "python",
   "nbconvert_exporter": "python",
   "pygments_lexer": "ipython3",
   "version": "3.12.9"
  }
 },
 "nbformat": 4,
 "nbformat_minor": 5
}
